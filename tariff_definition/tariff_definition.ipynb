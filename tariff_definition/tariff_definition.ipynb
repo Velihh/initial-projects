{
 "cells": [
  {
   "cell_type": "markdown",
   "id": "a48cb705",
   "metadata": {},
   "source": [
    "# Проект: Определение перспективного тарифа для телеком компании"
   ]
  },
  {
   "cell_type": "markdown",
   "id": "d7fc4401",
   "metadata": {},
   "source": [
    "### Описание проекта  \n",
    "Клиентам предлагают два тарифных плана: «Смарт» и «Ультра». Чтобы скорректировать рекламный бюджет, коммерческий департамент хочет понять, какой тариф приносит больше денег.\n",
    "Надо провести предварительный анализ тарифов на небольшой выборке клиентов. В вашем распоряжении данные 500 пользователей: кто они, откуда, каким тарифом пользуются, сколько звонков и сообщений каждый отправил за 2018 год. Нужно проанализировать поведение клиентов и сделать вывод — какой тариф лучше."
   ]
  },
  {
   "cell_type": "markdown",
   "id": "107145a4",
   "metadata": {},
   "source": [
    "### Описание тарифов  \n",
    "`Тариф «Смарт»`  \n",
    "- Ежемесячная плата: 550 рублей  \n",
    "- Включено 500 минут разговора, 50 сообщений и 15 Гб интернет-трафика  \n",
    " **Стоимость услуг сверх тарифного пакета:**\n",
    "- минута разговора: 3 рубля\n",
    "- сообщение: 3 рубля\n",
    "- 1 Гб интернет-трафика: 200 рублей  \n",
    "\n",
    "`Тариф «Ультра»`\n",
    "- Ежемесячная плата: 1950 рублей\n",
    "- Включено 3000 минут разговора, 1000 сообщений и 30 Гб интернет-трафика  \n",
    " **Стоимость услуг сверх тарифного пакета:**  \n",
    "- минута разговора: 1 рубль\n",
    "- сообщение: 1 рубль\n",
    "- 1 Гб интернет-трафика: 150 рублей"
   ]
  },
  {
   "cell_type": "markdown",
   "id": "be3c2e91",
   "metadata": {},
   "source": [
    "### Описание данных  \n",
    "`Таблица users (информация о пользователях):`  \n",
    "- user_id — уникальный идентификатор пользователя\n",
    "- first_name — имя пользователя\n",
    "- last_name — фамилия пользователя\n",
    "- age — возраст пользователя (годы)\n",
    "- reg_date — дата подключения тарифа (день, месяц, год)\n",
    "- churn_date — дата прекращения пользования тарифом (если значение пропущено, то тариф ещё действовал на момент выгрузки данных)\n",
    "- city — город проживания пользователя\n",
    "- tariff — название тарифного плана  \n",
    "\n",
    "`Таблица calls (информация о звонках):`\n",
    "- id — уникальный номер звонка\n",
    "- call_date — дата звонка\n",
    "- duration — длительность звонка в минутах\n",
    "- user_id — идентификатор пользователя, сделавшего звонок  \n",
    "\n",
    "`Таблица messages (информация о сообщениях):`\n",
    "- id — уникальный номер сообщения\n",
    "- message_date — дата сообщения\n",
    "- user_id — идентификатор пользователя, отправившего сообщение \n",
    "\n",
    "`Таблица internet (информация об интернет-сессиях):`\n",
    "- id — уникальный номер сессии\n",
    "- mb_used — объём потраченного за сессию интернет-трафика (в мегабайтах)\n",
    "- session_date — дата интернет-сессии\n",
    "- user_id — идентификатор пользователя\n",
    "\n",
    "`Таблица tariffs (информация о тарифах):`\n",
    "- tariff_name — название тарифа\n",
    "- rub_monthly_fee — ежемесячная абонентская плата в рублях\n",
    "- minutes_included — количество минут разговора в месяц, включённых в абонентскую плату\n",
    "- messages_included — количество сообщений в месяц, включённых в абонентскую плату\n",
    "- mb_per_month_included — объём интернет-трафика, включённого в абонентскую плату (в мегабайтах)\n",
    "- rub_per_minute — стоимость минуты разговора сверх тарифного пакета (например, если в тарифе 100 минут разговора в месяц, тосо 101 минуты будет взиматься плата)\n",
    "- rub_per_message — стоимость отправки сообщения сверх тарифного пакета\n",
    "- rub_per_gb — стоимость дополнительного гигабайта интернет-трафика сверх тарифного пакета (1 гигабайт = 1024 мегабайта)"
   ]
  },
  {
   "cell_type": "markdown",
   "id": "7b78a016",
   "metadata": {},
   "source": [
    "### План проекта:"
   ]
  },
  {
   "cell_type": "markdown",
   "id": "421c7a92",
   "metadata": {},
   "source": [
    "#### Предобработка данных\n",
    "- Открываем таблицы и подключаем библиотеки\n",
    "- Исследуем пропуски\n",
    "- Приводим данные к нужным типам\n",
    "- Удаляем дубликаты\n",
    "- Находим и устраняем ошибки в данных"
   ]
  },
  {
   "cell_type": "markdown",
   "id": "30b7c4b2",
   "metadata": {},
   "source": [
    "#### Анализ данных\n",
    "- Исследуем данные с помощью функции describe()\n",
    "- Пишем функцию для построения графиков\n",
    "- Пишем функцию для автоматизации выводов, отвечающую на вопросы: Сколько минут разговора, сколько сообщений и какой объём интернет-трафика требуется пользователям каждого тарифа в месяц?\n",
    "- Применяем эти функции последовательно на столбцы с минутами, смс, интернетом и общей ссумой затрат.\n",
    "- После каждого применения делаем выводы."
   ]
  },
  {
   "cell_type": "markdown",
   "id": "60e3362a",
   "metadata": {},
   "source": [
    "#### Проверяем полученные гипотизы  \n",
    "- Формулируем нулевую и альтернативную гипотизы\n",
    "- Выбираем и применяем нужный способ проверки"
   ]
  },
  {
   "cell_type": "markdown",
   "id": "45e73a7d",
   "metadata": {},
   "source": [
    "#### Делаем общий вывод"
   ]
  },
  {
   "cell_type": "markdown",
   "id": "9a43a1fd",
   "metadata": {},
   "source": [
    "## Предобработка данных\n",
    "- Открываем таблицы и подключаем библиотеки\n",
    "- Исследуем пропуски\n",
    "- Приводим данные к нужным типам\n",
    "- Удаляем дубликаты\n",
    "- Находим и устраняем ошибки в данных"
   ]
  },
  {
   "cell_type": "markdown",
   "id": "958e4086",
   "metadata": {},
   "source": [
    "#### Открываем таблицы и подключаем библиотеки"
   ]
  },
  {
   "cell_type": "code",
   "execution_count": 1,
   "id": "06ffc6f8",
   "metadata": {
    "ExecuteTime": {
     "end_time": "2022-02-14T08:52:48.341749Z",
     "start_time": "2022-02-14T08:52:13.726571Z"
    },
    "scrolled": false
   },
   "outputs": [],
   "source": [
    "import pandas as pd\n",
    "from scipy import stats as st\n",
    "# Импорт библиотеки высокоуровневых математических функций\n",
    "import numpy as np\n",
    "import matplotlib.pyplot as plt\n",
    "import seaborn as sns\n",
    "import warnings\n",
    "\n",
    "warnings.filterwarnings('ignore')"
   ]
  },
  {
   "cell_type": "code",
   "execution_count": 2,
   "id": "e4bf1132",
   "metadata": {},
   "outputs": [],
   "source": [
    "calls = pd.read_csv(/*<ссылка на фаил с данными по звонкам>*/)\n",
    "internet = pd.read_csv(/*<ссылка на фаил с данными по интернету>*/, index_col=0 )\n",
    "messages = pd.read_csv(/*<ссылка на фаил с данными по сообщениям>*/)\n",
    "tariffs = pd.read_csv(/*<ссылка на фаил с данными по тарифам>*/)\n",
    "users = pd.read_csv(/*<ссылка на фаил с данными по пользователям>*/)"
   ]
  },
  {
   "cell_type": "code",
   "execution_count": 3,
   "id": "21394298",
   "metadata": {
    "ExecuteTime": {
     "end_time": "2022-02-14T08:52:54.664762Z",
     "start_time": "2022-02-14T08:52:52.034313Z"
    },
    "scrolled": false
   },
   "outputs": [
    {
     "name": "stdout",
     "output_type": "stream",
     "text": [
      "Requirement already satisfied: pandas in c:\\users\\churk\\anaconda3\\envs\\praktikum\\lib\\site-packages (1.3.5)\n",
      "Requirement already satisfied: python-dateutil>=2.7.3 in c:\\users\\churk\\anaconda3\\envs\\praktikum\\lib\\site-packages (from pandas) (2.8.2)\n",
      "Requirement already satisfied: numpy>=1.17.3 in c:\\users\\churk\\anaconda3\\envs\\praktikum\\lib\\site-packages (from pandas) (1.21.5)\n",
      "Requirement already satisfied: pytz>=2017.3 in c:\\users\\churk\\anaconda3\\envs\\praktikum\\lib\\site-packages (from pandas) (2021.3)\n",
      "Requirement already satisfied: six>=1.5 in c:\\users\\churk\\anaconda3\\envs\\praktikum\\lib\\site-packages (from python-dateutil>=2.7.3->pandas) (1.16.0)\n"
     ]
    }
   ],
   "source": [
    "# обновляем пандас, чтобы у всех кто будет запускать эту тетрадку, все работало также как у меня)\n",
    "!pip install pandas --upgrade"
   ]
  },
  {
   "cell_type": "code",
   "execution_count": 4,
   "id": "4409ccfc",
   "metadata": {
    "ExecuteTime": {
     "end_time": "2022-02-14T08:52:54.726578Z",
     "start_time": "2022-02-14T08:52:54.666744Z"
    },
    "scrolled": true
   },
   "outputs": [
    {
     "data": {
      "text/html": [
       "<div>\n",
       "<style scoped>\n",
       "    .dataframe tbody tr th:only-of-type {\n",
       "        vertical-align: middle;\n",
       "    }\n",
       "\n",
       "    .dataframe tbody tr th {\n",
       "        vertical-align: top;\n",
       "    }\n",
       "\n",
       "    .dataframe thead th {\n",
       "        text-align: right;\n",
       "    }\n",
       "</style>\n",
       "<table border=\"1\" class=\"dataframe\">\n",
       "  <thead>\n",
       "    <tr style=\"text-align: right;\">\n",
       "      <th></th>\n",
       "      <th>id</th>\n",
       "      <th>call_date</th>\n",
       "      <th>duration</th>\n",
       "      <th>user_id</th>\n",
       "    </tr>\n",
       "  </thead>\n",
       "  <tbody>\n",
       "    <tr>\n",
       "      <th>0</th>\n",
       "      <td>1000_0</td>\n",
       "      <td>2018-07-25</td>\n",
       "      <td>0.00</td>\n",
       "      <td>1000</td>\n",
       "    </tr>\n",
       "    <tr>\n",
       "      <th>1</th>\n",
       "      <td>1000_1</td>\n",
       "      <td>2018-08-17</td>\n",
       "      <td>0.00</td>\n",
       "      <td>1000</td>\n",
       "    </tr>\n",
       "    <tr>\n",
       "      <th>2</th>\n",
       "      <td>1000_2</td>\n",
       "      <td>2018-06-11</td>\n",
       "      <td>2.85</td>\n",
       "      <td>1000</td>\n",
       "    </tr>\n",
       "    <tr>\n",
       "      <th>3</th>\n",
       "      <td>1000_3</td>\n",
       "      <td>2018-09-21</td>\n",
       "      <td>13.80</td>\n",
       "      <td>1000</td>\n",
       "    </tr>\n",
       "    <tr>\n",
       "      <th>4</th>\n",
       "      <td>1000_4</td>\n",
       "      <td>2018-12-15</td>\n",
       "      <td>5.18</td>\n",
       "      <td>1000</td>\n",
       "    </tr>\n",
       "    <tr>\n",
       "      <th>...</th>\n",
       "      <td>...</td>\n",
       "      <td>...</td>\n",
       "      <td>...</td>\n",
       "      <td>...</td>\n",
       "    </tr>\n",
       "    <tr>\n",
       "      <th>202602</th>\n",
       "      <td>1499_215</td>\n",
       "      <td>2018-12-26</td>\n",
       "      <td>0.76</td>\n",
       "      <td>1499</td>\n",
       "    </tr>\n",
       "    <tr>\n",
       "      <th>202603</th>\n",
       "      <td>1499_216</td>\n",
       "      <td>2018-10-18</td>\n",
       "      <td>18.83</td>\n",
       "      <td>1499</td>\n",
       "    </tr>\n",
       "    <tr>\n",
       "      <th>202604</th>\n",
       "      <td>1499_217</td>\n",
       "      <td>2018-11-10</td>\n",
       "      <td>10.81</td>\n",
       "      <td>1499</td>\n",
       "    </tr>\n",
       "    <tr>\n",
       "      <th>202605</th>\n",
       "      <td>1499_218</td>\n",
       "      <td>2018-10-06</td>\n",
       "      <td>4.27</td>\n",
       "      <td>1499</td>\n",
       "    </tr>\n",
       "    <tr>\n",
       "      <th>202606</th>\n",
       "      <td>1499_219</td>\n",
       "      <td>2018-12-14</td>\n",
       "      <td>19.62</td>\n",
       "      <td>1499</td>\n",
       "    </tr>\n",
       "  </tbody>\n",
       "</table>\n",
       "<p>202607 rows × 4 columns</p>\n",
       "</div>"
      ],
      "text/plain": [
       "              id   call_date  duration  user_id\n",
       "0         1000_0  2018-07-25      0.00     1000\n",
       "1         1000_1  2018-08-17      0.00     1000\n",
       "2         1000_2  2018-06-11      2.85     1000\n",
       "3         1000_3  2018-09-21     13.80     1000\n",
       "4         1000_4  2018-12-15      5.18     1000\n",
       "...          ...         ...       ...      ...\n",
       "202602  1499_215  2018-12-26      0.76     1499\n",
       "202603  1499_216  2018-10-18     18.83     1499\n",
       "202604  1499_217  2018-11-10     10.81     1499\n",
       "202605  1499_218  2018-10-06      4.27     1499\n",
       "202606  1499_219  2018-12-14     19.62     1499\n",
       "\n",
       "[202607 rows x 4 columns]"
      ]
     },
     "metadata": {},
     "output_type": "display_data"
    },
    {
     "data": {
      "text/html": [
       "<div>\n",
       "<style scoped>\n",
       "    .dataframe tbody tr th:only-of-type {\n",
       "        vertical-align: middle;\n",
       "    }\n",
       "\n",
       "    .dataframe tbody tr th {\n",
       "        vertical-align: top;\n",
       "    }\n",
       "\n",
       "    .dataframe thead th {\n",
       "        text-align: right;\n",
       "    }\n",
       "</style>\n",
       "<table border=\"1\" class=\"dataframe\">\n",
       "  <thead>\n",
       "    <tr style=\"text-align: right;\">\n",
       "      <th></th>\n",
       "      <th>id</th>\n",
       "      <th>mb_used</th>\n",
       "      <th>session_date</th>\n",
       "      <th>user_id</th>\n",
       "    </tr>\n",
       "  </thead>\n",
       "  <tbody>\n",
       "    <tr>\n",
       "      <th>0</th>\n",
       "      <td>1000_0</td>\n",
       "      <td>112.95</td>\n",
       "      <td>2018-11-25</td>\n",
       "      <td>1000</td>\n",
       "    </tr>\n",
       "    <tr>\n",
       "      <th>1</th>\n",
       "      <td>1000_1</td>\n",
       "      <td>1052.81</td>\n",
       "      <td>2018-09-07</td>\n",
       "      <td>1000</td>\n",
       "    </tr>\n",
       "    <tr>\n",
       "      <th>2</th>\n",
       "      <td>1000_2</td>\n",
       "      <td>1197.26</td>\n",
       "      <td>2018-06-25</td>\n",
       "      <td>1000</td>\n",
       "    </tr>\n",
       "    <tr>\n",
       "      <th>3</th>\n",
       "      <td>1000_3</td>\n",
       "      <td>550.27</td>\n",
       "      <td>2018-08-22</td>\n",
       "      <td>1000</td>\n",
       "    </tr>\n",
       "    <tr>\n",
       "      <th>4</th>\n",
       "      <td>1000_4</td>\n",
       "      <td>302.56</td>\n",
       "      <td>2018-09-24</td>\n",
       "      <td>1000</td>\n",
       "    </tr>\n",
       "    <tr>\n",
       "      <th>...</th>\n",
       "      <td>...</td>\n",
       "      <td>...</td>\n",
       "      <td>...</td>\n",
       "      <td>...</td>\n",
       "    </tr>\n",
       "    <tr>\n",
       "      <th>149391</th>\n",
       "      <td>1499_152</td>\n",
       "      <td>318.90</td>\n",
       "      <td>2018-10-03</td>\n",
       "      <td>1499</td>\n",
       "    </tr>\n",
       "    <tr>\n",
       "      <th>149392</th>\n",
       "      <td>1499_153</td>\n",
       "      <td>490.13</td>\n",
       "      <td>2018-12-14</td>\n",
       "      <td>1499</td>\n",
       "    </tr>\n",
       "    <tr>\n",
       "      <th>149393</th>\n",
       "      <td>1499_154</td>\n",
       "      <td>0.00</td>\n",
       "      <td>2018-10-27</td>\n",
       "      <td>1499</td>\n",
       "    </tr>\n",
       "    <tr>\n",
       "      <th>149394</th>\n",
       "      <td>1499_155</td>\n",
       "      <td>1246.32</td>\n",
       "      <td>2018-11-26</td>\n",
       "      <td>1499</td>\n",
       "    </tr>\n",
       "    <tr>\n",
       "      <th>149395</th>\n",
       "      <td>1499_156</td>\n",
       "      <td>544.37</td>\n",
       "      <td>2018-10-26</td>\n",
       "      <td>1499</td>\n",
       "    </tr>\n",
       "  </tbody>\n",
       "</table>\n",
       "<p>149396 rows × 4 columns</p>\n",
       "</div>"
      ],
      "text/plain": [
       "              id  mb_used session_date  user_id\n",
       "0         1000_0   112.95   2018-11-25     1000\n",
       "1         1000_1  1052.81   2018-09-07     1000\n",
       "2         1000_2  1197.26   2018-06-25     1000\n",
       "3         1000_3   550.27   2018-08-22     1000\n",
       "4         1000_4   302.56   2018-09-24     1000\n",
       "...          ...      ...          ...      ...\n",
       "149391  1499_152   318.90   2018-10-03     1499\n",
       "149392  1499_153   490.13   2018-12-14     1499\n",
       "149393  1499_154     0.00   2018-10-27     1499\n",
       "149394  1499_155  1246.32   2018-11-26     1499\n",
       "149395  1499_156   544.37   2018-10-26     1499\n",
       "\n",
       "[149396 rows x 4 columns]"
      ]
     },
     "metadata": {},
     "output_type": "display_data"
    },
    {
     "data": {
      "text/html": [
       "<div>\n",
       "<style scoped>\n",
       "    .dataframe tbody tr th:only-of-type {\n",
       "        vertical-align: middle;\n",
       "    }\n",
       "\n",
       "    .dataframe tbody tr th {\n",
       "        vertical-align: top;\n",
       "    }\n",
       "\n",
       "    .dataframe thead th {\n",
       "        text-align: right;\n",
       "    }\n",
       "</style>\n",
       "<table border=\"1\" class=\"dataframe\">\n",
       "  <thead>\n",
       "    <tr style=\"text-align: right;\">\n",
       "      <th></th>\n",
       "      <th>id</th>\n",
       "      <th>message_date</th>\n",
       "      <th>user_id</th>\n",
       "    </tr>\n",
       "  </thead>\n",
       "  <tbody>\n",
       "    <tr>\n",
       "      <th>0</th>\n",
       "      <td>1000_0</td>\n",
       "      <td>2018-06-27</td>\n",
       "      <td>1000</td>\n",
       "    </tr>\n",
       "    <tr>\n",
       "      <th>1</th>\n",
       "      <td>1000_1</td>\n",
       "      <td>2018-10-08</td>\n",
       "      <td>1000</td>\n",
       "    </tr>\n",
       "    <tr>\n",
       "      <th>2</th>\n",
       "      <td>1000_2</td>\n",
       "      <td>2018-08-04</td>\n",
       "      <td>1000</td>\n",
       "    </tr>\n",
       "    <tr>\n",
       "      <th>3</th>\n",
       "      <td>1000_3</td>\n",
       "      <td>2018-06-16</td>\n",
       "      <td>1000</td>\n",
       "    </tr>\n",
       "    <tr>\n",
       "      <th>4</th>\n",
       "      <td>1000_4</td>\n",
       "      <td>2018-12-05</td>\n",
       "      <td>1000</td>\n",
       "    </tr>\n",
       "    <tr>\n",
       "      <th>...</th>\n",
       "      <td>...</td>\n",
       "      <td>...</td>\n",
       "      <td>...</td>\n",
       "    </tr>\n",
       "    <tr>\n",
       "      <th>123031</th>\n",
       "      <td>1499_179</td>\n",
       "      <td>2018-12-12</td>\n",
       "      <td>1499</td>\n",
       "    </tr>\n",
       "    <tr>\n",
       "      <th>123032</th>\n",
       "      <td>1499_180</td>\n",
       "      <td>2018-09-28</td>\n",
       "      <td>1499</td>\n",
       "    </tr>\n",
       "    <tr>\n",
       "      <th>123033</th>\n",
       "      <td>1499_181</td>\n",
       "      <td>2018-09-27</td>\n",
       "      <td>1499</td>\n",
       "    </tr>\n",
       "    <tr>\n",
       "      <th>123034</th>\n",
       "      <td>1499_182</td>\n",
       "      <td>2018-11-15</td>\n",
       "      <td>1499</td>\n",
       "    </tr>\n",
       "    <tr>\n",
       "      <th>123035</th>\n",
       "      <td>1499_183</td>\n",
       "      <td>2018-11-16</td>\n",
       "      <td>1499</td>\n",
       "    </tr>\n",
       "  </tbody>\n",
       "</table>\n",
       "<p>123036 rows × 3 columns</p>\n",
       "</div>"
      ],
      "text/plain": [
       "              id message_date  user_id\n",
       "0         1000_0   2018-06-27     1000\n",
       "1         1000_1   2018-10-08     1000\n",
       "2         1000_2   2018-08-04     1000\n",
       "3         1000_3   2018-06-16     1000\n",
       "4         1000_4   2018-12-05     1000\n",
       "...          ...          ...      ...\n",
       "123031  1499_179   2018-12-12     1499\n",
       "123032  1499_180   2018-09-28     1499\n",
       "123033  1499_181   2018-09-27     1499\n",
       "123034  1499_182   2018-11-15     1499\n",
       "123035  1499_183   2018-11-16     1499\n",
       "\n",
       "[123036 rows x 3 columns]"
      ]
     },
     "metadata": {},
     "output_type": "display_data"
    },
    {
     "data": {
      "text/html": [
       "<div>\n",
       "<style scoped>\n",
       "    .dataframe tbody tr th:only-of-type {\n",
       "        vertical-align: middle;\n",
       "    }\n",
       "\n",
       "    .dataframe tbody tr th {\n",
       "        vertical-align: top;\n",
       "    }\n",
       "\n",
       "    .dataframe thead th {\n",
       "        text-align: right;\n",
       "    }\n",
       "</style>\n",
       "<table border=\"1\" class=\"dataframe\">\n",
       "  <thead>\n",
       "    <tr style=\"text-align: right;\">\n",
       "      <th></th>\n",
       "      <th>messages_included</th>\n",
       "      <th>mb_per_month_included</th>\n",
       "      <th>minutes_included</th>\n",
       "      <th>rub_monthly_fee</th>\n",
       "      <th>rub_per_gb</th>\n",
       "      <th>rub_per_message</th>\n",
       "      <th>rub_per_minute</th>\n",
       "      <th>tariff_name</th>\n",
       "    </tr>\n",
       "  </thead>\n",
       "  <tbody>\n",
       "    <tr>\n",
       "      <th>0</th>\n",
       "      <td>50</td>\n",
       "      <td>15360</td>\n",
       "      <td>500</td>\n",
       "      <td>550</td>\n",
       "      <td>200</td>\n",
       "      <td>3</td>\n",
       "      <td>3</td>\n",
       "      <td>smart</td>\n",
       "    </tr>\n",
       "    <tr>\n",
       "      <th>1</th>\n",
       "      <td>1000</td>\n",
       "      <td>30720</td>\n",
       "      <td>3000</td>\n",
       "      <td>1950</td>\n",
       "      <td>150</td>\n",
       "      <td>1</td>\n",
       "      <td>1</td>\n",
       "      <td>ultra</td>\n",
       "    </tr>\n",
       "  </tbody>\n",
       "</table>\n",
       "</div>"
      ],
      "text/plain": [
       "   messages_included  mb_per_month_included  minutes_included  \\\n",
       "0                 50                  15360               500   \n",
       "1               1000                  30720              3000   \n",
       "\n",
       "   rub_monthly_fee  rub_per_gb  rub_per_message  rub_per_minute tariff_name  \n",
       "0              550         200                3               3       smart  \n",
       "1             1950         150                1               1       ultra  "
      ]
     },
     "metadata": {},
     "output_type": "display_data"
    },
    {
     "data": {
      "text/html": [
       "<div>\n",
       "<style scoped>\n",
       "    .dataframe tbody tr th:only-of-type {\n",
       "        vertical-align: middle;\n",
       "    }\n",
       "\n",
       "    .dataframe tbody tr th {\n",
       "        vertical-align: top;\n",
       "    }\n",
       "\n",
       "    .dataframe thead th {\n",
       "        text-align: right;\n",
       "    }\n",
       "</style>\n",
       "<table border=\"1\" class=\"dataframe\">\n",
       "  <thead>\n",
       "    <tr style=\"text-align: right;\">\n",
       "      <th></th>\n",
       "      <th>user_id</th>\n",
       "      <th>age</th>\n",
       "      <th>churn_date</th>\n",
       "      <th>city</th>\n",
       "      <th>first_name</th>\n",
       "      <th>last_name</th>\n",
       "      <th>reg_date</th>\n",
       "      <th>tariff</th>\n",
       "    </tr>\n",
       "  </thead>\n",
       "  <tbody>\n",
       "    <tr>\n",
       "      <th>0</th>\n",
       "      <td>1000</td>\n",
       "      <td>52</td>\n",
       "      <td>NaN</td>\n",
       "      <td>Краснодар</td>\n",
       "      <td>Рафаил</td>\n",
       "      <td>Верещагин</td>\n",
       "      <td>2018-05-25</td>\n",
       "      <td>ultra</td>\n",
       "    </tr>\n",
       "    <tr>\n",
       "      <th>1</th>\n",
       "      <td>1001</td>\n",
       "      <td>41</td>\n",
       "      <td>NaN</td>\n",
       "      <td>Москва</td>\n",
       "      <td>Иван</td>\n",
       "      <td>Ежов</td>\n",
       "      <td>2018-11-01</td>\n",
       "      <td>smart</td>\n",
       "    </tr>\n",
       "    <tr>\n",
       "      <th>2</th>\n",
       "      <td>1002</td>\n",
       "      <td>59</td>\n",
       "      <td>NaN</td>\n",
       "      <td>Стерлитамак</td>\n",
       "      <td>Евгений</td>\n",
       "      <td>Абрамович</td>\n",
       "      <td>2018-06-17</td>\n",
       "      <td>smart</td>\n",
       "    </tr>\n",
       "    <tr>\n",
       "      <th>3</th>\n",
       "      <td>1003</td>\n",
       "      <td>23</td>\n",
       "      <td>NaN</td>\n",
       "      <td>Москва</td>\n",
       "      <td>Белла</td>\n",
       "      <td>Белякова</td>\n",
       "      <td>2018-08-17</td>\n",
       "      <td>ultra</td>\n",
       "    </tr>\n",
       "    <tr>\n",
       "      <th>4</th>\n",
       "      <td>1004</td>\n",
       "      <td>68</td>\n",
       "      <td>NaN</td>\n",
       "      <td>Новокузнецк</td>\n",
       "      <td>Татьяна</td>\n",
       "      <td>Авдеенко</td>\n",
       "      <td>2018-05-14</td>\n",
       "      <td>ultra</td>\n",
       "    </tr>\n",
       "    <tr>\n",
       "      <th>...</th>\n",
       "      <td>...</td>\n",
       "      <td>...</td>\n",
       "      <td>...</td>\n",
       "      <td>...</td>\n",
       "      <td>...</td>\n",
       "      <td>...</td>\n",
       "      <td>...</td>\n",
       "      <td>...</td>\n",
       "    </tr>\n",
       "    <tr>\n",
       "      <th>495</th>\n",
       "      <td>1495</td>\n",
       "      <td>65</td>\n",
       "      <td>NaN</td>\n",
       "      <td>Иркутск</td>\n",
       "      <td>Авксентий</td>\n",
       "      <td>Фокин</td>\n",
       "      <td>2018-08-28</td>\n",
       "      <td>ultra</td>\n",
       "    </tr>\n",
       "    <tr>\n",
       "      <th>496</th>\n",
       "      <td>1496</td>\n",
       "      <td>36</td>\n",
       "      <td>NaN</td>\n",
       "      <td>Вологда</td>\n",
       "      <td>Трифон</td>\n",
       "      <td>Блохин</td>\n",
       "      <td>2018-01-27</td>\n",
       "      <td>smart</td>\n",
       "    </tr>\n",
       "    <tr>\n",
       "      <th>497</th>\n",
       "      <td>1497</td>\n",
       "      <td>32</td>\n",
       "      <td>NaN</td>\n",
       "      <td>Челябинск</td>\n",
       "      <td>Каролина</td>\n",
       "      <td>Агеева</td>\n",
       "      <td>2018-10-09</td>\n",
       "      <td>smart</td>\n",
       "    </tr>\n",
       "    <tr>\n",
       "      <th>498</th>\n",
       "      <td>1498</td>\n",
       "      <td>68</td>\n",
       "      <td>2018-10-25</td>\n",
       "      <td>Владикавказ</td>\n",
       "      <td>Всеволод</td>\n",
       "      <td>Акимчин</td>\n",
       "      <td>2018-07-19</td>\n",
       "      <td>smart</td>\n",
       "    </tr>\n",
       "    <tr>\n",
       "      <th>499</th>\n",
       "      <td>1499</td>\n",
       "      <td>35</td>\n",
       "      <td>NaN</td>\n",
       "      <td>Пермь</td>\n",
       "      <td>Гектор</td>\n",
       "      <td>Корнилов</td>\n",
       "      <td>2018-09-27</td>\n",
       "      <td>smart</td>\n",
       "    </tr>\n",
       "  </tbody>\n",
       "</table>\n",
       "<p>500 rows × 8 columns</p>\n",
       "</div>"
      ],
      "text/plain": [
       "     user_id  age  churn_date         city first_name  last_name    reg_date  \\\n",
       "0       1000   52         NaN    Краснодар     Рафаил  Верещагин  2018-05-25   \n",
       "1       1001   41         NaN       Москва       Иван       Ежов  2018-11-01   \n",
       "2       1002   59         NaN  Стерлитамак    Евгений  Абрамович  2018-06-17   \n",
       "3       1003   23         NaN       Москва      Белла   Белякова  2018-08-17   \n",
       "4       1004   68         NaN  Новокузнецк    Татьяна   Авдеенко  2018-05-14   \n",
       "..       ...  ...         ...          ...        ...        ...         ...   \n",
       "495     1495   65         NaN      Иркутск  Авксентий      Фокин  2018-08-28   \n",
       "496     1496   36         NaN      Вологда     Трифон     Блохин  2018-01-27   \n",
       "497     1497   32         NaN    Челябинск   Каролина     Агеева  2018-10-09   \n",
       "498     1498   68  2018-10-25  Владикавказ   Всеволод    Акимчин  2018-07-19   \n",
       "499     1499   35         NaN        Пермь     Гектор   Корнилов  2018-09-27   \n",
       "\n",
       "    tariff  \n",
       "0    ultra  \n",
       "1    smart  \n",
       "2    smart  \n",
       "3    ultra  \n",
       "4    ultra  \n",
       "..     ...  \n",
       "495  ultra  \n",
       "496  smart  \n",
       "497  smart  \n",
       "498  smart  \n",
       "499  smart  \n",
       "\n",
       "[500 rows x 8 columns]"
      ]
     },
     "metadata": {},
     "output_type": "display_data"
    }
   ],
   "source": [
    "# открываем таблицы\n",
    "dfki = [calls, internet, messages, tariffs, users]\n",
    "def dfs():\n",
    "    \n",
    "    for data in dfki:\n",
    "        display(data)\n",
    "dfs()"
   ]
  },
  {
   "cell_type": "markdown",
   "id": "7009fbfd",
   "metadata": {},
   "source": [
    "Все успешно импортировалось)"
   ]
  },
  {
   "cell_type": "markdown",
   "id": "ca6b9fba",
   "metadata": {},
   "source": [
    "#### Ищем пропуски  "
   ]
  },
  {
   "cell_type": "code",
   "execution_count": 5,
   "id": "c80fd298",
   "metadata": {
    "ExecuteTime": {
     "end_time": "2022-02-14T08:52:54.788386Z",
     "start_time": "2022-02-14T08:52:54.727547Z"
    }
   },
   "outputs": [
    {
     "name": "stdout",
     "output_type": "stream",
     "text": [
      "calls\n",
      "id           0.0\n",
      "call_date    0.0\n",
      "duration     0.0\n",
      "user_id      0.0\n",
      "dtype: float64\n",
      "\n",
      "internet\n",
      "id              0.0\n",
      "mb_used         0.0\n",
      "session_date    0.0\n",
      "user_id         0.0\n",
      "dtype: float64\n",
      "\n",
      "messages\n",
      "id              0.0\n",
      "message_date    0.0\n",
      "user_id         0.0\n",
      "dtype: float64\n",
      "\n",
      "tariffs\n",
      "messages_included        0.0\n",
      "mb_per_month_included    0.0\n",
      "minutes_included         0.0\n",
      "rub_monthly_fee          0.0\n",
      "rub_per_gb               0.0\n",
      "rub_per_message          0.0\n",
      "rub_per_minute           0.0\n",
      "tariff_name              0.0\n",
      "dtype: float64\n",
      "\n",
      "users\n",
      "user_id        0.0\n",
      "age            0.0\n",
      "churn_date    92.4\n",
      "city           0.0\n",
      "first_name     0.0\n",
      "last_name      0.0\n",
      "reg_date       0.0\n",
      "tariff         0.0\n",
      "dtype: float64\n",
      "\n"
     ]
    }
   ],
   "source": [
    "dfki_i = ['calls', 'internet', 'messages', 'tariffs', 'users']\n",
    "counter = 0\n",
    "for data in dfki:\n",
    "    print(dfki_i[counter])\n",
    "    counter += 1\n",
    "    print(data.isnull().sum() / len(data) * 100)\n",
    "    print()"
   ]
  },
  {
   "cell_type": "markdown",
   "id": "40c4f34b",
   "metadata": {},
   "source": [
    "Отсутвует только дата прекращения пользования тарифом (если значение пропущено, то тариф ещё действовал на момент выгрузки данных)"
   ]
  },
  {
   "cell_type": "markdown",
   "id": "026387e3",
   "metadata": {},
   "source": [
    "#### Ищем явные дубликаты"
   ]
  },
  {
   "cell_type": "code",
   "execution_count": 6,
   "id": "152302a8",
   "metadata": {
    "ExecuteTime": {
     "end_time": "2022-02-14T08:52:54.943968Z",
     "start_time": "2022-02-14T08:52:54.790382Z"
    }
   },
   "outputs": [
    {
     "name": "stdout",
     "output_type": "stream",
     "text": [
      "False    202607\n",
      "dtype: int64\n",
      "False    149396\n",
      "dtype: int64\n",
      "False    123036\n",
      "dtype: int64\n",
      "False    2\n",
      "dtype: int64\n"
     ]
    }
   ],
   "source": [
    "dfki = [calls, internet, messages, tariffs]\n",
    "for data in dfki:\n",
    "    print(data.duplicated().value_counts())"
   ]
  },
  {
   "cell_type": "markdown",
   "id": "783158ab",
   "metadata": {},
   "source": [
    "явных дубликатов нет"
   ]
  },
  {
   "cell_type": "markdown",
   "id": "024e8204",
   "metadata": {},
   "source": [
    "#### Приводим данные к нужным типам  "
   ]
  },
  {
   "cell_type": "code",
   "execution_count": 7,
   "id": "c53e705b",
   "metadata": {
    "ExecuteTime": {
     "end_time": "2022-02-14T08:52:54.959961Z",
     "start_time": "2022-02-14T08:52:54.944968Z"
    }
   },
   "outputs": [
    {
     "data": {
      "text/html": [
       "<div>\n",
       "<style scoped>\n",
       "    .dataframe tbody tr th:only-of-type {\n",
       "        vertical-align: middle;\n",
       "    }\n",
       "\n",
       "    .dataframe tbody tr th {\n",
       "        vertical-align: top;\n",
       "    }\n",
       "\n",
       "    .dataframe thead th {\n",
       "        text-align: right;\n",
       "    }\n",
       "</style>\n",
       "<table border=\"1\" class=\"dataframe\">\n",
       "  <thead>\n",
       "    <tr style=\"text-align: right;\">\n",
       "      <th></th>\n",
       "      <th>id</th>\n",
       "      <th>call_date</th>\n",
       "      <th>duration</th>\n",
       "      <th>user_id</th>\n",
       "    </tr>\n",
       "  </thead>\n",
       "  <tbody>\n",
       "    <tr>\n",
       "      <th>0</th>\n",
       "      <td>1000_0</td>\n",
       "      <td>2018-07-25</td>\n",
       "      <td>0.00</td>\n",
       "      <td>1000</td>\n",
       "    </tr>\n",
       "    <tr>\n",
       "      <th>1</th>\n",
       "      <td>1000_1</td>\n",
       "      <td>2018-08-17</td>\n",
       "      <td>0.00</td>\n",
       "      <td>1000</td>\n",
       "    </tr>\n",
       "    <tr>\n",
       "      <th>2</th>\n",
       "      <td>1000_2</td>\n",
       "      <td>2018-06-11</td>\n",
       "      <td>2.85</td>\n",
       "      <td>1000</td>\n",
       "    </tr>\n",
       "    <tr>\n",
       "      <th>3</th>\n",
       "      <td>1000_3</td>\n",
       "      <td>2018-09-21</td>\n",
       "      <td>13.80</td>\n",
       "      <td>1000</td>\n",
       "    </tr>\n",
       "    <tr>\n",
       "      <th>4</th>\n",
       "      <td>1000_4</td>\n",
       "      <td>2018-12-15</td>\n",
       "      <td>5.18</td>\n",
       "      <td>1000</td>\n",
       "    </tr>\n",
       "    <tr>\n",
       "      <th>...</th>\n",
       "      <td>...</td>\n",
       "      <td>...</td>\n",
       "      <td>...</td>\n",
       "      <td>...</td>\n",
       "    </tr>\n",
       "    <tr>\n",
       "      <th>202602</th>\n",
       "      <td>1499_215</td>\n",
       "      <td>2018-12-26</td>\n",
       "      <td>0.76</td>\n",
       "      <td>1499</td>\n",
       "    </tr>\n",
       "    <tr>\n",
       "      <th>202603</th>\n",
       "      <td>1499_216</td>\n",
       "      <td>2018-10-18</td>\n",
       "      <td>18.83</td>\n",
       "      <td>1499</td>\n",
       "    </tr>\n",
       "    <tr>\n",
       "      <th>202604</th>\n",
       "      <td>1499_217</td>\n",
       "      <td>2018-11-10</td>\n",
       "      <td>10.81</td>\n",
       "      <td>1499</td>\n",
       "    </tr>\n",
       "    <tr>\n",
       "      <th>202605</th>\n",
       "      <td>1499_218</td>\n",
       "      <td>2018-10-06</td>\n",
       "      <td>4.27</td>\n",
       "      <td>1499</td>\n",
       "    </tr>\n",
       "    <tr>\n",
       "      <th>202606</th>\n",
       "      <td>1499_219</td>\n",
       "      <td>2018-12-14</td>\n",
       "      <td>19.62</td>\n",
       "      <td>1499</td>\n",
       "    </tr>\n",
       "  </tbody>\n",
       "</table>\n",
       "<p>202607 rows × 4 columns</p>\n",
       "</div>"
      ],
      "text/plain": [
       "              id   call_date  duration  user_id\n",
       "0         1000_0  2018-07-25      0.00     1000\n",
       "1         1000_1  2018-08-17      0.00     1000\n",
       "2         1000_2  2018-06-11      2.85     1000\n",
       "3         1000_3  2018-09-21     13.80     1000\n",
       "4         1000_4  2018-12-15      5.18     1000\n",
       "...          ...         ...       ...      ...\n",
       "202602  1499_215  2018-12-26      0.76     1499\n",
       "202603  1499_216  2018-10-18     18.83     1499\n",
       "202604  1499_217  2018-11-10     10.81     1499\n",
       "202605  1499_218  2018-10-06      4.27     1499\n",
       "202606  1499_219  2018-12-14     19.62     1499\n",
       "\n",
       "[202607 rows x 4 columns]"
      ]
     },
     "execution_count": 7,
     "metadata": {},
     "output_type": "execute_result"
    }
   ],
   "source": [
    "calls"
   ]
  },
  {
   "cell_type": "code",
   "execution_count": 8,
   "id": "3c690d5b",
   "metadata": {
    "ExecuteTime": {
     "end_time": "2022-02-14T08:52:54.991868Z",
     "start_time": "2022-02-14T08:52:54.961921Z"
    },
    "scrolled": false
   },
   "outputs": [
    {
     "name": "stdout",
     "output_type": "stream",
     "text": [
      "<class 'pandas.core.frame.DataFrame'>\n",
      "RangeIndex: 202607 entries, 0 to 202606\n",
      "Data columns (total 4 columns):\n",
      " #   Column     Non-Null Count   Dtype  \n",
      "---  ------     --------------   -----  \n",
      " 0   id         202607 non-null  object \n",
      " 1   call_date  202607 non-null  object \n",
      " 2   duration   202607 non-null  float64\n",
      " 3   user_id    202607 non-null  int64  \n",
      "dtypes: float64(1), int64(1), object(2)\n",
      "memory usage: 6.2+ MB\n"
     ]
    }
   ],
   "source": [
    "calls.info()"
   ]
  },
  {
   "cell_type": "markdown",
   "id": "3c026f68",
   "metadata": {},
   "source": [
    "Приведем дату к порядку"
   ]
  },
  {
   "cell_type": "code",
   "execution_count": 9,
   "id": "22a0278a",
   "metadata": {
    "ExecuteTime": {
     "end_time": "2022-02-14T08:52:55.055708Z",
     "start_time": "2022-02-14T08:52:54.992838Z"
    },
    "scrolled": false
   },
   "outputs": [
    {
     "name": "stdout",
     "output_type": "stream",
     "text": [
      "<class 'pandas.core.frame.DataFrame'>\n",
      "RangeIndex: 202607 entries, 0 to 202606\n",
      "Data columns (total 4 columns):\n",
      " #   Column     Non-Null Count   Dtype         \n",
      "---  ------     --------------   -----         \n",
      " 0   id         202607 non-null  object        \n",
      " 1   call_date  202607 non-null  datetime64[ns]\n",
      " 2   duration   202607 non-null  float64       \n",
      " 3   user_id    202607 non-null  int64         \n",
      "dtypes: datetime64[ns](1), float64(1), int64(1), object(1)\n",
      "memory usage: 6.2+ MB\n"
     ]
    }
   ],
   "source": [
    "# тут только надо дату привести к порядку\n",
    "def date(data, column):\n",
    "    data[column] = pd.to_datetime(data[column], format='%Y-%m-%d')\n",
    "    data.info()\n",
    "date(calls, 'call_date')"
   ]
  },
  {
   "cell_type": "code",
   "execution_count": 10,
   "id": "2025ab76",
   "metadata": {
    "ExecuteTime": {
     "end_time": "2022-02-14T08:52:55.070630Z",
     "start_time": "2022-02-14T08:52:55.057665Z"
    }
   },
   "outputs": [
    {
     "data": {
      "text/plain": [
       "id                  1000_1\n",
       "mb_used            1052.81\n",
       "session_date    2018-09-07\n",
       "user_id               1000\n",
       "Name: 1, dtype: object"
      ]
     },
     "execution_count": 10,
     "metadata": {},
     "output_type": "execute_result"
    }
   ],
   "source": [
    "internet.iloc[1]"
   ]
  },
  {
   "cell_type": "code",
   "execution_count": 11,
   "id": "07a46a7e",
   "metadata": {
    "ExecuteTime": {
     "end_time": "2022-02-14T08:52:55.101581Z",
     "start_time": "2022-02-14T08:52:55.072626Z"
    },
    "scrolled": false
   },
   "outputs": [
    {
     "name": "stdout",
     "output_type": "stream",
     "text": [
      "<class 'pandas.core.frame.DataFrame'>\n",
      "Int64Index: 149396 entries, 0 to 149395\n",
      "Data columns (total 4 columns):\n",
      " #   Column        Non-Null Count   Dtype  \n",
      "---  ------        --------------   -----  \n",
      " 0   id            149396 non-null  object \n",
      " 1   mb_used       149396 non-null  float64\n",
      " 2   session_date  149396 non-null  object \n",
      " 3   user_id       149396 non-null  int64  \n",
      "dtypes: float64(1), int64(1), object(2)\n",
      "memory usage: 5.7+ MB\n"
     ]
    }
   ],
   "source": [
    "internet.info()"
   ]
  },
  {
   "cell_type": "code",
   "execution_count": 12,
   "id": "72871b9b",
   "metadata": {
    "ExecuteTime": {
     "end_time": "2022-02-14T08:52:55.117504Z",
     "start_time": "2022-02-14T08:52:55.103547Z"
    }
   },
   "outputs": [
    {
     "data": {
      "text/html": [
       "<div>\n",
       "<style scoped>\n",
       "    .dataframe tbody tr th:only-of-type {\n",
       "        vertical-align: middle;\n",
       "    }\n",
       "\n",
       "    .dataframe tbody tr th {\n",
       "        vertical-align: top;\n",
       "    }\n",
       "\n",
       "    .dataframe thead th {\n",
       "        text-align: right;\n",
       "    }\n",
       "</style>\n",
       "<table border=\"1\" class=\"dataframe\">\n",
       "  <thead>\n",
       "    <tr style=\"text-align: right;\">\n",
       "      <th></th>\n",
       "      <th>id</th>\n",
       "      <th>mb_used</th>\n",
       "      <th>session_date</th>\n",
       "      <th>user_id</th>\n",
       "    </tr>\n",
       "  </thead>\n",
       "  <tbody>\n",
       "    <tr>\n",
       "      <th>0</th>\n",
       "      <td>1000_0</td>\n",
       "      <td>112.95</td>\n",
       "      <td>2018-11-25</td>\n",
       "      <td>1000</td>\n",
       "    </tr>\n",
       "    <tr>\n",
       "      <th>1</th>\n",
       "      <td>1000_1</td>\n",
       "      <td>1052.81</td>\n",
       "      <td>2018-09-07</td>\n",
       "      <td>1000</td>\n",
       "    </tr>\n",
       "    <tr>\n",
       "      <th>2</th>\n",
       "      <td>1000_2</td>\n",
       "      <td>1197.26</td>\n",
       "      <td>2018-06-25</td>\n",
       "      <td>1000</td>\n",
       "    </tr>\n",
       "    <tr>\n",
       "      <th>3</th>\n",
       "      <td>1000_3</td>\n",
       "      <td>550.27</td>\n",
       "      <td>2018-08-22</td>\n",
       "      <td>1000</td>\n",
       "    </tr>\n",
       "    <tr>\n",
       "      <th>4</th>\n",
       "      <td>1000_4</td>\n",
       "      <td>302.56</td>\n",
       "      <td>2018-09-24</td>\n",
       "      <td>1000</td>\n",
       "    </tr>\n",
       "    <tr>\n",
       "      <th>...</th>\n",
       "      <td>...</td>\n",
       "      <td>...</td>\n",
       "      <td>...</td>\n",
       "      <td>...</td>\n",
       "    </tr>\n",
       "    <tr>\n",
       "      <th>149391</th>\n",
       "      <td>1499_152</td>\n",
       "      <td>318.90</td>\n",
       "      <td>2018-10-03</td>\n",
       "      <td>1499</td>\n",
       "    </tr>\n",
       "    <tr>\n",
       "      <th>149392</th>\n",
       "      <td>1499_153</td>\n",
       "      <td>490.13</td>\n",
       "      <td>2018-12-14</td>\n",
       "      <td>1499</td>\n",
       "    </tr>\n",
       "    <tr>\n",
       "      <th>149393</th>\n",
       "      <td>1499_154</td>\n",
       "      <td>0.00</td>\n",
       "      <td>2018-10-27</td>\n",
       "      <td>1499</td>\n",
       "    </tr>\n",
       "    <tr>\n",
       "      <th>149394</th>\n",
       "      <td>1499_155</td>\n",
       "      <td>1246.32</td>\n",
       "      <td>2018-11-26</td>\n",
       "      <td>1499</td>\n",
       "    </tr>\n",
       "    <tr>\n",
       "      <th>149395</th>\n",
       "      <td>1499_156</td>\n",
       "      <td>544.37</td>\n",
       "      <td>2018-10-26</td>\n",
       "      <td>1499</td>\n",
       "    </tr>\n",
       "  </tbody>\n",
       "</table>\n",
       "<p>149396 rows × 4 columns</p>\n",
       "</div>"
      ],
      "text/plain": [
       "              id  mb_used session_date  user_id\n",
       "0         1000_0   112.95   2018-11-25     1000\n",
       "1         1000_1  1052.81   2018-09-07     1000\n",
       "2         1000_2  1197.26   2018-06-25     1000\n",
       "3         1000_3   550.27   2018-08-22     1000\n",
       "4         1000_4   302.56   2018-09-24     1000\n",
       "...          ...      ...          ...      ...\n",
       "149391  1499_152   318.90   2018-10-03     1499\n",
       "149392  1499_153   490.13   2018-12-14     1499\n",
       "149393  1499_154     0.00   2018-10-27     1499\n",
       "149394  1499_155  1246.32   2018-11-26     1499\n",
       "149395  1499_156   544.37   2018-10-26     1499\n",
       "\n",
       "[149396 rows x 4 columns]"
      ]
     },
     "execution_count": 12,
     "metadata": {},
     "output_type": "execute_result"
    }
   ],
   "source": [
    "internet"
   ]
  },
  {
   "cell_type": "code",
   "execution_count": 13,
   "id": "595764f0",
   "metadata": {
    "ExecuteTime": {
     "end_time": "2022-02-14T08:52:55.165401Z",
     "start_time": "2022-02-14T08:52:55.120497Z"
    },
    "scrolled": false
   },
   "outputs": [
    {
     "name": "stdout",
     "output_type": "stream",
     "text": [
      "<class 'pandas.core.frame.DataFrame'>\n",
      "Int64Index: 149396 entries, 0 to 149395\n",
      "Data columns (total 4 columns):\n",
      " #   Column        Non-Null Count   Dtype         \n",
      "---  ------        --------------   -----         \n",
      " 0   id            149396 non-null  object        \n",
      " 1   mb_used       149396 non-null  float64       \n",
      " 2   session_date  149396 non-null  datetime64[ns]\n",
      " 3   user_id       149396 non-null  int64         \n",
      "dtypes: datetime64[ns](1), float64(1), int64(1), object(1)\n",
      "memory usage: 5.7+ MB\n"
     ]
    }
   ],
   "source": [
    "# аналогично приводим к порядку дату и трафик приведем к целочисленному формаму. \n",
    "date(internet, 'session_date')"
   ]
  },
  {
   "cell_type": "code",
   "execution_count": 14,
   "id": "3fe073c4",
   "metadata": {
    "ExecuteTime": {
     "end_time": "2022-02-14T08:52:55.180337Z",
     "start_time": "2022-02-14T08:52:55.166374Z"
    }
   },
   "outputs": [
    {
     "data": {
      "text/plain": [
       "id                  1000_1\n",
       "message_date    2018-10-08\n",
       "user_id               1000\n",
       "Name: 1, dtype: object"
      ]
     },
     "execution_count": 14,
     "metadata": {},
     "output_type": "execute_result"
    }
   ],
   "source": [
    "messages.iloc[1]"
   ]
  },
  {
   "cell_type": "code",
   "execution_count": 15,
   "id": "e3fa7692",
   "metadata": {
    "ExecuteTime": {
     "end_time": "2022-02-14T08:52:55.211254Z",
     "start_time": "2022-02-14T08:52:55.181335Z"
    },
    "scrolled": false
   },
   "outputs": [
    {
     "name": "stdout",
     "output_type": "stream",
     "text": [
      "<class 'pandas.core.frame.DataFrame'>\n",
      "RangeIndex: 123036 entries, 0 to 123035\n",
      "Data columns (total 3 columns):\n",
      " #   Column        Non-Null Count   Dtype \n",
      "---  ------        --------------   ----- \n",
      " 0   id            123036 non-null  object\n",
      " 1   message_date  123036 non-null  object\n",
      " 2   user_id       123036 non-null  int64 \n",
      "dtypes: int64(1), object(2)\n",
      "memory usage: 2.8+ MB\n"
     ]
    }
   ],
   "source": [
    "messages.info()"
   ]
  },
  {
   "cell_type": "code",
   "execution_count": 16,
   "id": "24d29c9b",
   "metadata": {
    "ExecuteTime": {
     "end_time": "2022-02-14T08:52:55.259148Z",
     "start_time": "2022-02-14T08:52:55.212251Z"
    },
    "scrolled": false
   },
   "outputs": [
    {
     "name": "stdout",
     "output_type": "stream",
     "text": [
      "<class 'pandas.core.frame.DataFrame'>\n",
      "RangeIndex: 123036 entries, 0 to 123035\n",
      "Data columns (total 3 columns):\n",
      " #   Column        Non-Null Count   Dtype         \n",
      "---  ------        --------------   -----         \n",
      " 0   id            123036 non-null  object        \n",
      " 1   message_date  123036 non-null  datetime64[ns]\n",
      " 2   user_id       123036 non-null  int64         \n",
      "dtypes: datetime64[ns](1), int64(1), object(1)\n",
      "memory usage: 2.8+ MB\n"
     ]
    }
   ],
   "source": [
    "# все хорошо, только дата выделяется\n",
    "date(messages, 'message_date')"
   ]
  },
  {
   "cell_type": "code",
   "execution_count": 17,
   "id": "378ca16a",
   "metadata": {
    "ExecuteTime": {
     "end_time": "2022-02-14T08:52:55.275104Z",
     "start_time": "2022-02-14T08:52:55.261141Z"
    }
   },
   "outputs": [
    {
     "data": {
      "text/html": [
       "<div>\n",
       "<style scoped>\n",
       "    .dataframe tbody tr th:only-of-type {\n",
       "        vertical-align: middle;\n",
       "    }\n",
       "\n",
       "    .dataframe tbody tr th {\n",
       "        vertical-align: top;\n",
       "    }\n",
       "\n",
       "    .dataframe thead th {\n",
       "        text-align: right;\n",
       "    }\n",
       "</style>\n",
       "<table border=\"1\" class=\"dataframe\">\n",
       "  <thead>\n",
       "    <tr style=\"text-align: right;\">\n",
       "      <th></th>\n",
       "      <th>messages_included</th>\n",
       "      <th>mb_per_month_included</th>\n",
       "      <th>minutes_included</th>\n",
       "      <th>rub_monthly_fee</th>\n",
       "      <th>rub_per_gb</th>\n",
       "      <th>rub_per_message</th>\n",
       "      <th>rub_per_minute</th>\n",
       "      <th>tariff_name</th>\n",
       "    </tr>\n",
       "  </thead>\n",
       "  <tbody>\n",
       "    <tr>\n",
       "      <th>0</th>\n",
       "      <td>50</td>\n",
       "      <td>15360</td>\n",
       "      <td>500</td>\n",
       "      <td>550</td>\n",
       "      <td>200</td>\n",
       "      <td>3</td>\n",
       "      <td>3</td>\n",
       "      <td>smart</td>\n",
       "    </tr>\n",
       "    <tr>\n",
       "      <th>1</th>\n",
       "      <td>1000</td>\n",
       "      <td>30720</td>\n",
       "      <td>3000</td>\n",
       "      <td>1950</td>\n",
       "      <td>150</td>\n",
       "      <td>1</td>\n",
       "      <td>1</td>\n",
       "      <td>ultra</td>\n",
       "    </tr>\n",
       "  </tbody>\n",
       "</table>\n",
       "</div>"
      ],
      "text/plain": [
       "   messages_included  mb_per_month_included  minutes_included  \\\n",
       "0                 50                  15360               500   \n",
       "1               1000                  30720              3000   \n",
       "\n",
       "   rub_monthly_fee  rub_per_gb  rub_per_message  rub_per_minute tariff_name  \n",
       "0              550         200                3               3       smart  \n",
       "1             1950         150                1               1       ultra  "
      ]
     },
     "execution_count": 17,
     "metadata": {},
     "output_type": "execute_result"
    }
   ],
   "source": [
    "tariffs.iloc[:10]"
   ]
  },
  {
   "cell_type": "code",
   "execution_count": 18,
   "id": "20c3b268",
   "metadata": {
    "ExecuteTime": {
     "end_time": "2022-02-14T08:52:55.291061Z",
     "start_time": "2022-02-14T08:52:55.276103Z"
    },
    "scrolled": false
   },
   "outputs": [
    {
     "name": "stdout",
     "output_type": "stream",
     "text": [
      "<class 'pandas.core.frame.DataFrame'>\n",
      "RangeIndex: 2 entries, 0 to 1\n",
      "Data columns (total 8 columns):\n",
      " #   Column                 Non-Null Count  Dtype \n",
      "---  ------                 --------------  ----- \n",
      " 0   messages_included      2 non-null      int64 \n",
      " 1   mb_per_month_included  2 non-null      int64 \n",
      " 2   minutes_included       2 non-null      int64 \n",
      " 3   rub_monthly_fee        2 non-null      int64 \n",
      " 4   rub_per_gb             2 non-null      int64 \n",
      " 5   rub_per_message        2 non-null      int64 \n",
      " 6   rub_per_minute         2 non-null      int64 \n",
      " 7   tariff_name            2 non-null      object\n",
      "dtypes: int64(7), object(1)\n",
      "memory usage: 256.0+ bytes\n"
     ]
    }
   ],
   "source": [
    "tariffs.info()"
   ]
  },
  {
   "cell_type": "markdown",
   "id": "11d55063",
   "metadata": {},
   "source": [
    "Переведем мб в гб"
   ]
  },
  {
   "cell_type": "code",
   "execution_count": 19,
   "id": "b287b248",
   "metadata": {
    "ExecuteTime": {
     "end_time": "2022-02-14T08:52:55.307024Z",
     "start_time": "2022-02-14T08:52:55.292060Z"
    }
   },
   "outputs": [
    {
     "data": {
      "text/plain": [
       "0    15\n",
       "1    30\n",
       "Name: gb_per_month_included, dtype: int32"
      ]
     },
     "execution_count": 19,
     "metadata": {},
     "output_type": "execute_result"
    }
   ],
   "source": [
    "tariffs['gb_per_month_included'] = (tariffs['mb_per_month_included'] / 1024).astype('int')\n",
    "tariffs['gb_per_month_included']\n"
   ]
  },
  {
   "cell_type": "code",
   "execution_count": 20,
   "id": "4a0b2c48",
   "metadata": {
    "ExecuteTime": {
     "end_time": "2022-02-14T08:52:55.322978Z",
     "start_time": "2022-02-14T08:52:55.308018Z"
    }
   },
   "outputs": [
    {
     "data": {
      "text/html": [
       "<div>\n",
       "<style scoped>\n",
       "    .dataframe tbody tr th:only-of-type {\n",
       "        vertical-align: middle;\n",
       "    }\n",
       "\n",
       "    .dataframe tbody tr th {\n",
       "        vertical-align: top;\n",
       "    }\n",
       "\n",
       "    .dataframe thead th {\n",
       "        text-align: right;\n",
       "    }\n",
       "</style>\n",
       "<table border=\"1\" class=\"dataframe\">\n",
       "  <thead>\n",
       "    <tr style=\"text-align: right;\">\n",
       "      <th></th>\n",
       "      <th>user_id</th>\n",
       "      <th>age</th>\n",
       "      <th>churn_date</th>\n",
       "      <th>city</th>\n",
       "      <th>first_name</th>\n",
       "      <th>last_name</th>\n",
       "      <th>reg_date</th>\n",
       "      <th>tariff</th>\n",
       "    </tr>\n",
       "  </thead>\n",
       "  <tbody>\n",
       "    <tr>\n",
       "      <th>0</th>\n",
       "      <td>1000</td>\n",
       "      <td>52</td>\n",
       "      <td>NaN</td>\n",
       "      <td>Краснодар</td>\n",
       "      <td>Рафаил</td>\n",
       "      <td>Верещагин</td>\n",
       "      <td>2018-05-25</td>\n",
       "      <td>ultra</td>\n",
       "    </tr>\n",
       "    <tr>\n",
       "      <th>1</th>\n",
       "      <td>1001</td>\n",
       "      <td>41</td>\n",
       "      <td>NaN</td>\n",
       "      <td>Москва</td>\n",
       "      <td>Иван</td>\n",
       "      <td>Ежов</td>\n",
       "      <td>2018-11-01</td>\n",
       "      <td>smart</td>\n",
       "    </tr>\n",
       "    <tr>\n",
       "      <th>2</th>\n",
       "      <td>1002</td>\n",
       "      <td>59</td>\n",
       "      <td>NaN</td>\n",
       "      <td>Стерлитамак</td>\n",
       "      <td>Евгений</td>\n",
       "      <td>Абрамович</td>\n",
       "      <td>2018-06-17</td>\n",
       "      <td>smart</td>\n",
       "    </tr>\n",
       "    <tr>\n",
       "      <th>3</th>\n",
       "      <td>1003</td>\n",
       "      <td>23</td>\n",
       "      <td>NaN</td>\n",
       "      <td>Москва</td>\n",
       "      <td>Белла</td>\n",
       "      <td>Белякова</td>\n",
       "      <td>2018-08-17</td>\n",
       "      <td>ultra</td>\n",
       "    </tr>\n",
       "    <tr>\n",
       "      <th>4</th>\n",
       "      <td>1004</td>\n",
       "      <td>68</td>\n",
       "      <td>NaN</td>\n",
       "      <td>Новокузнецк</td>\n",
       "      <td>Татьяна</td>\n",
       "      <td>Авдеенко</td>\n",
       "      <td>2018-05-14</td>\n",
       "      <td>ultra</td>\n",
       "    </tr>\n",
       "    <tr>\n",
       "      <th>5</th>\n",
       "      <td>1005</td>\n",
       "      <td>67</td>\n",
       "      <td>NaN</td>\n",
       "      <td>Набережные Челны</td>\n",
       "      <td>Афанасий</td>\n",
       "      <td>Горлов</td>\n",
       "      <td>2018-01-25</td>\n",
       "      <td>smart</td>\n",
       "    </tr>\n",
       "    <tr>\n",
       "      <th>6</th>\n",
       "      <td>1006</td>\n",
       "      <td>21</td>\n",
       "      <td>NaN</td>\n",
       "      <td>Ульяновск</td>\n",
       "      <td>Леонид</td>\n",
       "      <td>Ермолаев</td>\n",
       "      <td>2018-02-26</td>\n",
       "      <td>smart</td>\n",
       "    </tr>\n",
       "    <tr>\n",
       "      <th>7</th>\n",
       "      <td>1007</td>\n",
       "      <td>65</td>\n",
       "      <td>NaN</td>\n",
       "      <td>Москва</td>\n",
       "      <td>Юна</td>\n",
       "      <td>Березина</td>\n",
       "      <td>2018-04-19</td>\n",
       "      <td>smart</td>\n",
       "    </tr>\n",
       "    <tr>\n",
       "      <th>8</th>\n",
       "      <td>1008</td>\n",
       "      <td>63</td>\n",
       "      <td>NaN</td>\n",
       "      <td>Челябинск</td>\n",
       "      <td>Рустэм</td>\n",
       "      <td>Пономарёв</td>\n",
       "      <td>2018-12-19</td>\n",
       "      <td>smart</td>\n",
       "    </tr>\n",
       "    <tr>\n",
       "      <th>9</th>\n",
       "      <td>1009</td>\n",
       "      <td>24</td>\n",
       "      <td>NaN</td>\n",
       "      <td>Пермь</td>\n",
       "      <td>Василиса</td>\n",
       "      <td>Блинова</td>\n",
       "      <td>2018-03-22</td>\n",
       "      <td>smart</td>\n",
       "    </tr>\n",
       "  </tbody>\n",
       "</table>\n",
       "</div>"
      ],
      "text/plain": [
       "   user_id  age churn_date              city first_name  last_name  \\\n",
       "0     1000   52        NaN         Краснодар     Рафаил  Верещагин   \n",
       "1     1001   41        NaN            Москва       Иван       Ежов   \n",
       "2     1002   59        NaN       Стерлитамак    Евгений  Абрамович   \n",
       "3     1003   23        NaN            Москва      Белла   Белякова   \n",
       "4     1004   68        NaN       Новокузнецк    Татьяна   Авдеенко   \n",
       "5     1005   67        NaN  Набережные Челны   Афанасий     Горлов   \n",
       "6     1006   21        NaN         Ульяновск     Леонид   Ермолаев   \n",
       "7     1007   65        NaN            Москва        Юна   Березина   \n",
       "8     1008   63        NaN         Челябинск     Рустэм  Пономарёв   \n",
       "9     1009   24        NaN             Пермь   Василиса    Блинова   \n",
       "\n",
       "     reg_date tariff  \n",
       "0  2018-05-25  ultra  \n",
       "1  2018-11-01  smart  \n",
       "2  2018-06-17  smart  \n",
       "3  2018-08-17  ultra  \n",
       "4  2018-05-14  ultra  \n",
       "5  2018-01-25  smart  \n",
       "6  2018-02-26  smart  \n",
       "7  2018-04-19  smart  \n",
       "8  2018-12-19  smart  \n",
       "9  2018-03-22  smart  "
      ]
     },
     "execution_count": 20,
     "metadata": {},
     "output_type": "execute_result"
    }
   ],
   "source": [
    "users.iloc[:10]"
   ]
  },
  {
   "cell_type": "code",
   "execution_count": 21,
   "id": "3a7ccd90",
   "metadata": {
    "ExecuteTime": {
     "end_time": "2022-02-14T08:52:55.337940Z",
     "start_time": "2022-02-14T08:52:55.324971Z"
    },
    "scrolled": false
   },
   "outputs": [
    {
     "name": "stdout",
     "output_type": "stream",
     "text": [
      "<class 'pandas.core.frame.DataFrame'>\n",
      "RangeIndex: 500 entries, 0 to 499\n",
      "Data columns (total 8 columns):\n",
      " #   Column      Non-Null Count  Dtype \n",
      "---  ------      --------------  ----- \n",
      " 0   user_id     500 non-null    int64 \n",
      " 1   age         500 non-null    int64 \n",
      " 2   churn_date  38 non-null     object\n",
      " 3   city        500 non-null    object\n",
      " 4   first_name  500 non-null    object\n",
      " 5   last_name   500 non-null    object\n",
      " 6   reg_date    500 non-null    object\n",
      " 7   tariff      500 non-null    object\n",
      "dtypes: int64(2), object(6)\n",
      "memory usage: 31.4+ KB\n"
     ]
    }
   ],
   "source": [
    "users.info()"
   ]
  },
  {
   "cell_type": "markdown",
   "id": "73f9ee34",
   "metadata": {},
   "source": [
    "А вот с пользователями придется поработать)\n",
    "- привести к форматы даты `churn_date`, `reg_date`\n",
    "- большую часть столбцов имеет смысл привести к категорийному формату, чтобы занимали меньше места, но я пока не буду. Случаются траблы с таким форматом"
   ]
  },
  {
   "cell_type": "code",
   "execution_count": 22,
   "id": "84fd879a",
   "metadata": {
    "ExecuteTime": {
     "end_time": "2022-02-14T08:52:55.368853Z",
     "start_time": "2022-02-14T08:52:55.339932Z"
    }
   },
   "outputs": [
    {
     "name": "stdout",
     "output_type": "stream",
     "text": [
      "<class 'pandas.core.frame.DataFrame'>\n",
      "RangeIndex: 500 entries, 0 to 499\n",
      "Data columns (total 8 columns):\n",
      " #   Column      Non-Null Count  Dtype         \n",
      "---  ------      --------------  -----         \n",
      " 0   user_id     500 non-null    int64         \n",
      " 1   age         500 non-null    int64         \n",
      " 2   churn_date  38 non-null     datetime64[ns]\n",
      " 3   city        500 non-null    object        \n",
      " 4   first_name  500 non-null    object        \n",
      " 5   last_name   500 non-null    object        \n",
      " 6   reg_date    500 non-null    object        \n",
      " 7   tariff      500 non-null    object        \n",
      "dtypes: datetime64[ns](1), int64(2), object(5)\n",
      "memory usage: 31.4+ KB\n",
      "<class 'pandas.core.frame.DataFrame'>\n",
      "RangeIndex: 500 entries, 0 to 499\n",
      "Data columns (total 8 columns):\n",
      " #   Column      Non-Null Count  Dtype         \n",
      "---  ------      --------------  -----         \n",
      " 0   user_id     500 non-null    int64         \n",
      " 1   age         500 non-null    int64         \n",
      " 2   churn_date  38 non-null     datetime64[ns]\n",
      " 3   city        500 non-null    object        \n",
      " 4   first_name  500 non-null    object        \n",
      " 5   last_name   500 non-null    object        \n",
      " 6   reg_date    500 non-null    datetime64[ns]\n",
      " 7   tariff      500 non-null    object        \n",
      "dtypes: datetime64[ns](2), int64(2), object(4)\n",
      "memory usage: 31.4+ KB\n"
     ]
    }
   ],
   "source": [
    "date(users, 'churn_date')\n",
    "date(users, 'reg_date')"
   ]
  },
  {
   "cell_type": "markdown",
   "id": "de91d45d",
   "metadata": {},
   "source": [
    "#### Выводы:  \n",
    "- Все столбцы приведены к нужному формату\n",
    "- Дубликатов и пропусков нет"
   ]
  },
  {
   "cell_type": "markdown",
   "id": "f6ac1771",
   "metadata": {},
   "source": [
    "#### Ищем ошибки в данных\n",
    "В первую очередь нас волнуют те столбцы по которым мы будем проводить исследование. Это город `city`, объем интернет трафика `mb_used`, длительность звонков `duration`. \n"
   ]
  },
  {
   "cell_type": "markdown",
   "id": "ed5ee3ca",
   "metadata": {},
   "source": [
    "Начнем с города"
   ]
  },
  {
   "cell_type": "code",
   "execution_count": 23,
   "id": "77edbf60",
   "metadata": {
    "ExecuteTime": {
     "end_time": "2022-02-14T08:52:55.384406Z",
     "start_time": "2022-02-14T08:52:55.373841Z"
    }
   },
   "outputs": [
    {
     "data": {
      "text/plain": [
       "count        500\n",
       "unique        76\n",
       "top       Москва\n",
       "freq          99\n",
       "Name: city, dtype: object"
      ]
     },
     "execution_count": 23,
     "metadata": {},
     "output_type": "execute_result"
    }
   ],
   "source": [
    "users['city'].describe()"
   ]
  },
  {
   "cell_type": "code",
   "execution_count": 24,
   "id": "2879ae5d",
   "metadata": {
    "ExecuteTime": {
     "end_time": "2022-02-14T08:52:55.400363Z",
     "start_time": "2022-02-14T08:52:55.386401Z"
    }
   },
   "outputs": [
    {
     "data": {
      "text/html": [
       "<div>\n",
       "<style scoped>\n",
       "    .dataframe tbody tr th:only-of-type {\n",
       "        vertical-align: middle;\n",
       "    }\n",
       "\n",
       "    .dataframe tbody tr th {\n",
       "        vertical-align: top;\n",
       "    }\n",
       "\n",
       "    .dataframe thead th {\n",
       "        text-align: right;\n",
       "    }\n",
       "</style>\n",
       "<table border=\"1\" class=\"dataframe\">\n",
       "  <thead>\n",
       "    <tr style=\"text-align: right;\">\n",
       "      <th></th>\n",
       "      <th>user_id</th>\n",
       "    </tr>\n",
       "    <tr>\n",
       "      <th>city</th>\n",
       "      <th></th>\n",
       "    </tr>\n",
       "  </thead>\n",
       "  <tbody>\n",
       "    <tr>\n",
       "      <th>Москва</th>\n",
       "      <td>99</td>\n",
       "    </tr>\n",
       "    <tr>\n",
       "      <th>Санкт-Петербург</th>\n",
       "      <td>39</td>\n",
       "    </tr>\n",
       "    <tr>\n",
       "      <th>Новосибирск</th>\n",
       "      <td>16</td>\n",
       "    </tr>\n",
       "    <tr>\n",
       "      <th>Казань</th>\n",
       "      <td>14</td>\n",
       "    </tr>\n",
       "    <tr>\n",
       "      <th>Омск</th>\n",
       "      <td>14</td>\n",
       "    </tr>\n",
       "    <tr>\n",
       "      <th>...</th>\n",
       "      <td>...</td>\n",
       "    </tr>\n",
       "    <tr>\n",
       "      <th>Подольск</th>\n",
       "      <td>1</td>\n",
       "    </tr>\n",
       "    <tr>\n",
       "      <th>Химки</th>\n",
       "      <td>1</td>\n",
       "    </tr>\n",
       "    <tr>\n",
       "      <th>Иваново</th>\n",
       "      <td>1</td>\n",
       "    </tr>\n",
       "    <tr>\n",
       "      <th>Нижневартовск</th>\n",
       "      <td>1</td>\n",
       "    </tr>\n",
       "    <tr>\n",
       "      <th>Архангельск</th>\n",
       "      <td>1</td>\n",
       "    </tr>\n",
       "  </tbody>\n",
       "</table>\n",
       "<p>76 rows × 1 columns</p>\n",
       "</div>"
      ],
      "text/plain": [
       "                 user_id\n",
       "city                    \n",
       "Москва                99\n",
       "Санкт-Петербург       39\n",
       "Новосибирск           16\n",
       "Казань                14\n",
       "Омск                  14\n",
       "...                  ...\n",
       "Подольск               1\n",
       "Химки                  1\n",
       "Иваново                1\n",
       "Нижневартовск          1\n",
       "Архангельск            1\n",
       "\n",
       "[76 rows x 1 columns]"
      ]
     },
     "execution_count": 24,
     "metadata": {},
     "output_type": "execute_result"
    }
   ],
   "source": [
    "users.pivot_table(index='city', values='user_id', aggfunc='count').sort_values(by = 'user_id',ascending = False)"
   ]
  },
  {
   "cell_type": "markdown",
   "id": "48ba6cd9",
   "metadata": {},
   "source": [
    "500 пользователей, 76 городов. Больше всего пользователей в Москве, в 2 раза меньше в Питере. Основная часть пользователей в городах коллеблится от 14 до 1 пользователя. Вроде бы все в порядке, нормальная выборка.\n",
    "Едем дальше, на очереди интренет трафик"
   ]
  },
  {
   "cell_type": "code",
   "execution_count": 25,
   "id": "0d0e1375",
   "metadata": {
    "ExecuteTime": {
     "end_time": "2022-02-14T08:52:55.432279Z",
     "start_time": "2022-02-14T08:52:55.402359Z"
    },
    "scrolled": false
   },
   "outputs": [
    {
     "data": {
      "text/plain": [
       "count    149396.000000\n",
       "mean        370.192426\n",
       "std         278.300951\n",
       "min           0.000000\n",
       "25%         138.187500\n",
       "50%         348.015000\n",
       "75%         559.552500\n",
       "max        1724.830000\n",
       "Name: mb_used, dtype: float64"
      ]
     },
     "execution_count": 25,
     "metadata": {},
     "output_type": "execute_result"
    }
   ],
   "source": [
    "internet['mb_used'].describe()"
   ]
  },
  {
   "cell_type": "code",
   "execution_count": 26,
   "id": "25fa466e",
   "metadata": {
    "ExecuteTime": {
     "end_time": "2022-02-14T08:52:56.272123Z",
     "start_time": "2022-02-14T08:52:55.434274Z"
    }
   },
   "outputs": [
    {
     "data": {
      "image/png": "[encoded data removed]",
      "text/plain": [
       "<Figure size 864x360 with 1 Axes>"
      ]
     },
     "metadata": {
      "needs_background": "light"
     },
     "output_type": "display_data"
    }
   ],
   "source": [
    "# в будущем она нам еще навреняка пригодится, поэтому построим функцию\n",
    "def countgraf(column1, column2, df):\n",
    "    (df\n",
    "     .pivot_table(index=column1, values=column2, aggfunc='count')\n",
    "     .plot(grid=True, figsize=(12, 5), style='o-', label='count')\n",
    "    )\n",
    "countgraf('mb_used', 'id', internet)"
   ]
  },
  {
   "cell_type": "markdown",
   "id": "89fdb37a",
   "metadata": {},
   "source": [
    "Почти 20 тысяч юзеров с нулевым трафиком по интрернету. Надо их дропнуть, а потом построить график без них"
   ]
  },
  {
   "cell_type": "code",
   "execution_count": 27,
   "id": "8f11ee1b",
   "metadata": {
    "ExecuteTime": {
     "end_time": "2022-02-14T08:52:56.288089Z",
     "start_time": "2022-02-14T08:52:56.273075Z"
    }
   },
   "outputs": [],
   "source": [
    "internet = internet.query('0 != mb_used')"
   ]
  },
  {
   "cell_type": "code",
   "execution_count": 28,
   "id": "0e8d7cc5",
   "metadata": {
    "ExecuteTime": {
     "end_time": "2022-02-14T08:52:56.633299Z",
     "start_time": "2022-02-14T08:52:56.289034Z"
    }
   },
   "outputs": [
    {
     "data": {
      "image/png": "[encoded data removed]",
      "text/plain": [
       "<Figure size 864x360 with 1 Axes>"
      ]
     },
     "metadata": {
      "needs_background": "light"
     },
     "output_type": "display_data"
    }
   ],
   "source": [
    "countgraf('mb_used', 'id', internet)"
   ]
  },
  {
   "cell_type": "markdown",
   "id": "800b6871",
   "metadata": {},
   "source": [
    "Получилось красивенькое такое распределение Пирсона. Едем дальше, на очереди длительность звонков."
   ]
  },
  {
   "cell_type": "code",
   "execution_count": 29,
   "id": "be0b7d12",
   "metadata": {
    "ExecuteTime": {
     "end_time": "2022-02-14T08:52:56.817805Z",
     "start_time": "2022-02-14T08:52:56.634299Z"
    }
   },
   "outputs": [
    {
     "data": {
      "image/png": "[encoded data removed]",
      "text/plain": [
       "<Figure size 864x360 with 1 Axes>"
      ]
     },
     "metadata": {
      "needs_background": "light"
     },
     "output_type": "display_data"
    }
   ],
   "source": [
    "countgraf('duration', 'id', calls)"
   ]
  },
  {
   "cell_type": "markdown",
   "id": "b2d0b1e7",
   "metadata": {},
   "source": [
    "Почти 40 тысяч нулевых.\n",
    "Но все же эти нули - не показатели за месяц. Звонок или интернет-сессия была зафиксирована, но по ее итогам стоит 0 в длительности звонка или трафика. Возможно так засчитываются входящие вызовы или что то иное, надо будет уточнить у колег."
   ]
  },
  {
   "cell_type": "code",
   "execution_count": 30,
   "id": "5b2c428a",
   "metadata": {
    "ExecuteTime": {
     "end_time": "2022-02-14T08:52:56.848388Z",
     "start_time": "2022-02-14T08:52:56.820803Z"
    }
   },
   "outputs": [],
   "source": [
    "calls = calls.query('0 != duration')"
   ]
  },
  {
   "cell_type": "code",
   "execution_count": 31,
   "id": "84f6ea07",
   "metadata": {
    "ExecuteTime": {
     "end_time": "2022-02-14T08:52:57.017123Z",
     "start_time": "2022-02-14T08:52:56.849340Z"
    }
   },
   "outputs": [
    {
     "data": {
      "image/png": "[encoded data removed]",
      "text/plain": [
       "<Figure size 864x360 with 1 Axes>"
      ]
     },
     "metadata": {
      "needs_background": "light"
     },
     "output_type": "display_data"
    }
   ],
   "source": [
    "countgraf('duration', 'id', calls)"
   ]
  },
  {
   "cell_type": "markdown",
   "id": "fbb76d08",
   "metadata": {},
   "source": [
    "#### Вывод  \n",
    "- Нормальное распределение Пирсона. Больше выбивающихся значений нет.\n",
    "- Удалив нулевые значения мы выбросили целых два сигмента людей: которые не пользуются мобильным интренетом, и тех которые не пользуются звонками, возможно какой то третий сегмент, если интернет сессия или мобильная связь все таки была, но зафиксированна как нулевое значение. "
   ]
  },
  {
   "cell_type": "markdown",
   "id": "f2ad4e16",
   "metadata": {},
   "source": [
    "Сдалаем столбцы с месяцами для `calls` `internet` и `messages`"
   ]
  },
  {
   "cell_type": "code",
   "execution_count": 32,
   "id": "80b36b6f",
   "metadata": {
    "ExecuteTime": {
     "end_time": "2022-02-14T08:52:57.063208Z",
     "start_time": "2022-02-14T08:52:57.019154Z"
    }
   },
   "outputs": [
    {
     "data": {
      "text/plain": [
       "2          6\n",
       "3          9\n",
       "4         12\n",
       "7          8\n",
       "8          9\n",
       "          ..\n",
       "202602    12\n",
       "202603    10\n",
       "202604    11\n",
       "202605    10\n",
       "202606    12\n",
       "Name: month, Length: 162994, dtype: int64"
      ]
     },
     "execution_count": 32,
     "metadata": {},
     "output_type": "execute_result"
    }
   ],
   "source": [
    "calls['month'] = calls['call_date'].dt.month\n",
    "internet['month'] = internet['session_date'].dt.month\n",
    "messages['month'] = messages['message_date'].dt.month\n",
    "calls['month']"
   ]
  },
  {
   "cell_type": "markdown",
   "id": "59e58267",
   "metadata": {},
   "source": [
    "Так как мегалайн окургляет звонки в до целой минуты в большую сторону, мы тоже их так округлим."
   ]
  },
  {
   "cell_type": "code",
   "execution_count": 33,
   "id": "50250f8b",
   "metadata": {
    "ExecuteTime": {
     "end_time": "2022-02-14T08:52:57.079209Z",
     "start_time": "2022-02-14T08:52:57.064205Z"
    }
   },
   "outputs": [
    {
     "data": {
      "text/plain": [
       "2          3\n",
       "3         14\n",
       "4          6\n",
       "7         19\n",
       "8         19\n",
       "          ..\n",
       "202602     1\n",
       "202603    19\n",
       "202604    11\n",
       "202605     5\n",
       "202606    20\n",
       "Name: duration, Length: 162994, dtype: int32"
      ]
     },
     "execution_count": 33,
     "metadata": {},
     "output_type": "execute_result"
    }
   ],
   "source": [
    "calls['duration'] = np.ceil(calls['duration']).astype('int')\n",
    "calls['duration']"
   ]
  },
  {
   "cell_type": "markdown",
   "id": "830148c8",
   "metadata": {},
   "source": [
    "Также округлим мегобайты до гигабайт и сохраним их в отдельный столбец"
   ]
  },
  {
   "cell_type": "code",
   "execution_count": 34,
   "id": "5f11d81f",
   "metadata": {
    "ExecuteTime": {
     "end_time": "2022-02-14T08:52:57.094156Z",
     "start_time": "2022-02-14T08:52:57.080161Z"
    },
    "scrolled": false
   },
   "outputs": [
    {
     "data": {
      "text/plain": [
       "0         0.110303\n",
       "1         1.028135\n",
       "2         1.169199\n",
       "3         0.537373\n",
       "4         0.295469\n",
       "            ...   \n",
       "149390    0.735078\n",
       "149391    0.311426\n",
       "149392    0.478643\n",
       "149394    1.217109\n",
       "149395    0.531611\n",
       "Name: gb_used, Length: 129798, dtype: float64"
      ]
     },
     "execution_count": 34,
     "metadata": {},
     "output_type": "execute_result"
    }
   ],
   "source": [
    "internet['gb_used'] = (internet['mb_used'] / 1024)\n",
    "internet['gb_used']"
   ]
  },
  {
   "cell_type": "markdown",
   "id": "93b3fdb8",
   "metadata": {},
   "source": [
    "Теперь можно сделать ежемесячные суммы по звонкам, интернету и сообщениям для каждого пользователя. Сначала формируем сводные таблицы сгруппированные по пользователям и месяцам, а после объединяем их в одну"
   ]
  },
  {
   "cell_type": "code",
   "execution_count": 35,
   "id": "f1236b3b",
   "metadata": {
    "ExecuteTime": {
     "end_time": "2022-02-14T08:52:57.204320Z",
     "start_time": "2022-02-14T08:52:57.095121Z"
    }
   },
   "outputs": [
    {
     "data": {
      "text/html": [
       "<div>\n",
       "<style scoped>\n",
       "    .dataframe tbody tr th:only-of-type {\n",
       "        vertical-align: middle;\n",
       "    }\n",
       "\n",
       "    .dataframe tbody tr th {\n",
       "        vertical-align: top;\n",
       "    }\n",
       "\n",
       "    .dataframe thead tr th {\n",
       "        text-align: left;\n",
       "    }\n",
       "\n",
       "    .dataframe thead tr:last-of-type th {\n",
       "        text-align: right;\n",
       "    }\n",
       "</style>\n",
       "<table border=\"1\" class=\"dataframe\">\n",
       "  <thead>\n",
       "    <tr>\n",
       "      <th></th>\n",
       "      <th></th>\n",
       "      <th>count</th>\n",
       "      <th>sum</th>\n",
       "    </tr>\n",
       "    <tr>\n",
       "      <th></th>\n",
       "      <th></th>\n",
       "      <th>duration</th>\n",
       "      <th>duration</th>\n",
       "    </tr>\n",
       "    <tr>\n",
       "      <th>user_id</th>\n",
       "      <th>month</th>\n",
       "      <th></th>\n",
       "      <th></th>\n",
       "    </tr>\n",
       "  </thead>\n",
       "  <tbody>\n",
       "    <tr>\n",
       "      <th rowspan=\"5\" valign=\"top\">1000</th>\n",
       "      <th>5</th>\n",
       "      <td>17</td>\n",
       "      <td>159</td>\n",
       "    </tr>\n",
       "    <tr>\n",
       "      <th>6</th>\n",
       "      <td>28</td>\n",
       "      <td>172</td>\n",
       "    </tr>\n",
       "    <tr>\n",
       "      <th>7</th>\n",
       "      <td>41</td>\n",
       "      <td>340</td>\n",
       "    </tr>\n",
       "    <tr>\n",
       "      <th>8</th>\n",
       "      <td>42</td>\n",
       "      <td>408</td>\n",
       "    </tr>\n",
       "    <tr>\n",
       "      <th>9</th>\n",
       "      <td>46</td>\n",
       "      <td>466</td>\n",
       "    </tr>\n",
       "    <tr>\n",
       "      <th>...</th>\n",
       "      <th>...</th>\n",
       "      <td>...</td>\n",
       "      <td>...</td>\n",
       "    </tr>\n",
       "    <tr>\n",
       "      <th>1498</th>\n",
       "      <th>10</th>\n",
       "      <td>30</td>\n",
       "      <td>247</td>\n",
       "    </tr>\n",
       "    <tr>\n",
       "      <th rowspan=\"4\" valign=\"top\">1499</th>\n",
       "      <th>9</th>\n",
       "      <td>8</td>\n",
       "      <td>70</td>\n",
       "    </tr>\n",
       "    <tr>\n",
       "      <th>10</th>\n",
       "      <td>44</td>\n",
       "      <td>449</td>\n",
       "    </tr>\n",
       "    <tr>\n",
       "      <th>11</th>\n",
       "      <td>62</td>\n",
       "      <td>612</td>\n",
       "    </tr>\n",
       "    <tr>\n",
       "      <th>12</th>\n",
       "      <td>56</td>\n",
       "      <td>492</td>\n",
       "    </tr>\n",
       "  </tbody>\n",
       "</table>\n",
       "<p>3168 rows × 2 columns</p>\n",
       "</div>"
      ],
      "text/plain": [
       "                 count      sum\n",
       "              duration duration\n",
       "user_id month                  \n",
       "1000    5           17      159\n",
       "        6           28      172\n",
       "        7           41      340\n",
       "        8           42      408\n",
       "        9           46      466\n",
       "...                ...      ...\n",
       "1498    10          30      247\n",
       "1499    9            8       70\n",
       "        10          44      449\n",
       "        11          62      612\n",
       "        12          56      492\n",
       "\n",
       "[3168 rows x 2 columns]"
      ]
     },
     "execution_count": 35,
     "metadata": {},
     "output_type": "execute_result"
    }
   ],
   "source": [
    "calls_pivot = calls.pivot_table(index=['user_id', 'month'], values='duration', aggfunc=['count', 'sum'])\n",
    "calls_pivot"
   ]
  },
  {
   "cell_type": "markdown",
   "id": "60ef6db0",
   "metadata": {},
   "source": [
    "Вот такие сводные таблицы получаются, теперь повторим процедуру для интернет трафика и смс, а после чего объединим их"
   ]
  },
  {
   "cell_type": "code",
   "execution_count": 36,
   "id": "c3767d4b",
   "metadata": {
    "ExecuteTime": {
     "end_time": "2022-02-14T08:52:57.309141Z",
     "start_time": "2022-02-14T08:52:57.205319Z"
    }
   },
   "outputs": [
    {
     "data": {
      "text/html": [
       "<div>\n",
       "<style scoped>\n",
       "    .dataframe tbody tr th:only-of-type {\n",
       "        vertical-align: middle;\n",
       "    }\n",
       "\n",
       "    .dataframe tbody tr th {\n",
       "        vertical-align: top;\n",
       "    }\n",
       "\n",
       "    .dataframe thead th {\n",
       "        text-align: right;\n",
       "    }\n",
       "</style>\n",
       "<table border=\"1\" class=\"dataframe\">\n",
       "  <thead>\n",
       "    <tr style=\"text-align: right;\">\n",
       "      <th></th>\n",
       "      <th></th>\n",
       "      <th>calls_count</th>\n",
       "      <th>minutes_used</th>\n",
       "      <th>sessions_count</th>\n",
       "      <th>gb_used</th>\n",
       "      <th>messages_count</th>\n",
       "      <th>tariff</th>\n",
       "    </tr>\n",
       "    <tr>\n",
       "      <th>user_id</th>\n",
       "      <th>month</th>\n",
       "      <th></th>\n",
       "      <th></th>\n",
       "      <th></th>\n",
       "      <th></th>\n",
       "      <th></th>\n",
       "      <th></th>\n",
       "    </tr>\n",
       "  </thead>\n",
       "  <tbody>\n",
       "    <tr>\n",
       "      <th rowspan=\"5\" valign=\"top\">1000</th>\n",
       "      <th>5</th>\n",
       "      <td>17.0</td>\n",
       "      <td>159.0</td>\n",
       "      <td>4.0</td>\n",
       "      <td>2.200674</td>\n",
       "      <td>22.0</td>\n",
       "      <td>ultra</td>\n",
       "    </tr>\n",
       "    <tr>\n",
       "      <th>6</th>\n",
       "      <td>28.0</td>\n",
       "      <td>172.0</td>\n",
       "      <td>44.0</td>\n",
       "      <td>22.689229</td>\n",
       "      <td>60.0</td>\n",
       "      <td>ultra</td>\n",
       "    </tr>\n",
       "    <tr>\n",
       "      <th>7</th>\n",
       "      <td>41.0</td>\n",
       "      <td>340.0</td>\n",
       "      <td>28.0</td>\n",
       "      <td>13.675430</td>\n",
       "      <td>75.0</td>\n",
       "      <td>ultra</td>\n",
       "    </tr>\n",
       "    <tr>\n",
       "      <th>8</th>\n",
       "      <td>42.0</td>\n",
       "      <td>408.0</td>\n",
       "      <td>27.0</td>\n",
       "      <td>13.726494</td>\n",
       "      <td>81.0</td>\n",
       "      <td>ultra</td>\n",
       "    </tr>\n",
       "    <tr>\n",
       "      <th>9</th>\n",
       "      <td>46.0</td>\n",
       "      <td>466.0</td>\n",
       "      <td>25.0</td>\n",
       "      <td>14.227451</td>\n",
       "      <td>57.0</td>\n",
       "      <td>ultra</td>\n",
       "    </tr>\n",
       "    <tr>\n",
       "      <th>...</th>\n",
       "      <th>...</th>\n",
       "      <td>...</td>\n",
       "      <td>...</td>\n",
       "      <td>...</td>\n",
       "      <td>...</td>\n",
       "      <td>...</td>\n",
       "      <td>...</td>\n",
       "    </tr>\n",
       "    <tr>\n",
       "      <th>1498</th>\n",
       "      <th>10</th>\n",
       "      <td>30.0</td>\n",
       "      <td>247.0</td>\n",
       "      <td>49.0</td>\n",
       "      <td>20.097031</td>\n",
       "      <td>42.0</td>\n",
       "      <td>smart</td>\n",
       "    </tr>\n",
       "    <tr>\n",
       "      <th rowspan=\"4\" valign=\"top\">1499</th>\n",
       "      <th>9</th>\n",
       "      <td>8.0</td>\n",
       "      <td>70.0</td>\n",
       "      <td>4.0</td>\n",
       "      <td>1.802490</td>\n",
       "      <td>11.0</td>\n",
       "      <td>smart</td>\n",
       "    </tr>\n",
       "    <tr>\n",
       "      <th>10</th>\n",
       "      <td>44.0</td>\n",
       "      <td>449.0</td>\n",
       "      <td>43.0</td>\n",
       "      <td>17.371592</td>\n",
       "      <td>48.0</td>\n",
       "      <td>smart</td>\n",
       "    </tr>\n",
       "    <tr>\n",
       "      <th>11</th>\n",
       "      <td>62.0</td>\n",
       "      <td>612.0</td>\n",
       "      <td>39.0</td>\n",
       "      <td>17.542295</td>\n",
       "      <td>59.0</td>\n",
       "      <td>smart</td>\n",
       "    </tr>\n",
       "    <tr>\n",
       "      <th>12</th>\n",
       "      <td>56.0</td>\n",
       "      <td>492.0</td>\n",
       "      <td>40.0</td>\n",
       "      <td>12.749590</td>\n",
       "      <td>66.0</td>\n",
       "      <td>smart</td>\n",
       "    </tr>\n",
       "  </tbody>\n",
       "</table>\n",
       "<p>3214 rows × 6 columns</p>\n",
       "</div>"
      ],
      "text/plain": [
       "               calls_count  minutes_used  sessions_count    gb_used  \\\n",
       "user_id month                                                         \n",
       "1000    5             17.0         159.0             4.0   2.200674   \n",
       "        6             28.0         172.0            44.0  22.689229   \n",
       "        7             41.0         340.0            28.0  13.675430   \n",
       "        8             42.0         408.0            27.0  13.726494   \n",
       "        9             46.0         466.0            25.0  14.227451   \n",
       "...                    ...           ...             ...        ...   \n",
       "1498    10            30.0         247.0            49.0  20.097031   \n",
       "1499    9              8.0          70.0             4.0   1.802490   \n",
       "        10            44.0         449.0            43.0  17.371592   \n",
       "        11            62.0         612.0            39.0  17.542295   \n",
       "        12            56.0         492.0            40.0  12.749590   \n",
       "\n",
       "               messages_count tariff  \n",
       "user_id month                         \n",
       "1000    5                22.0  ultra  \n",
       "        6                60.0  ultra  \n",
       "        7                75.0  ultra  \n",
       "        8                81.0  ultra  \n",
       "        9                57.0  ultra  \n",
       "...                       ...    ...  \n",
       "1498    10               42.0  smart  \n",
       "1499    9                11.0  smart  \n",
       "        10               48.0  smart  \n",
       "        11               59.0  smart  \n",
       "        12               66.0  smart  \n",
       "\n",
       "[3214 rows x 6 columns]"
      ]
     },
     "execution_count": 36,
     "metadata": {},
     "output_type": "execute_result"
    }
   ],
   "source": [
    "internet_pivot = internet.pivot_table(index=['user_id', 'month'], values='gb_used', aggfunc=['count', 'sum'])\n",
    "# в сообщениях нам нужно только количество\n",
    "messages_pivot = messages.pivot_table(index=['user_id', 'month'], values='id', aggfunc=['count'])\n",
    "# с тарифом будет по сложнее, поэтому мы сначала назначим в нем колонку user_id как индекс и возьмем тариф как интересующий\n",
    "# нас столбец\n",
    "tariff_pivot = users.set_index('user_id')['tariff']\n",
    "# переименуем столбцы\n",
    "calls_pivot.columns = ['calls_count', 'minutes_used']\n",
    "internet_pivot.columns = ['sessions_count', 'gb_used']\n",
    "messages_pivot.columns = ['messages_count']\n",
    "# склееваем таблицы по индексам, используем параметр how='outer', чтобы включить в таблицу все данные и не потерять пользователей\n",
    "df_users = calls_pivot.merge(internet_pivot, how='outer', left_index = True, right_index = True)\n",
    "df_users = df_users.merge(messages_pivot, how='outer', left_index = True, right_index = True)\n",
    "df_users = df_users.merge(tariff_pivot, how='outer', left_index = True, right_index = True)\n",
    "df_users"
   ]
  },
  {
   "cell_type": "markdown",
   "id": "a05267ce",
   "metadata": {},
   "source": [
    "проверим на пропуски, которые могли образоваться из-за слияния таблиц. Для этого напишим функцию:"
   ]
  },
  {
   "cell_type": "code",
   "execution_count": 37,
   "id": "de7a1dc8",
   "metadata": {
    "ExecuteTime": {
     "end_time": "2022-02-14T08:52:57.324055Z",
     "start_time": "2022-02-14T08:52:57.310095Z"
    },
    "scrolled": false
   },
   "outputs": [
    {
     "name": "stdout",
     "output_type": "stream",
     "text": [
      "calls_count        1.431238\n",
      "minutes_used       1.431238\n",
      "sessions_count     0.404480\n",
      "gb_used            0.404480\n",
      "messages_count    15.463597\n",
      "tariff             0.000000\n",
      "dtype: float64\n"
     ]
    }
   ],
   "source": [
    "def nan_chek(df):\n",
    "    print(df.isnull().sum() / len(df_users) * 100)\n",
    "nan_chek(df_users)"
   ]
  },
  {
   "cell_type": "markdown",
   "id": "9348ea2b",
   "metadata": {},
   "source": [
    "В большинстве столбцоы образовалось незначительное количетство пропусков, но мы можем наблюдать, что целых пятнадцать процентов месяцев отдельные пользователи не пользовались сообщениями. Подобные пропуски стоит заменить на нулевые значения, т.к. они образовались, потому что данные по отдельным пользователям не нашлось в отдельных таблицах, по причине неиспользования того или иного типа трафика."
   ]
  },
  {
   "cell_type": "code",
   "execution_count": 38,
   "id": "0d957e3c",
   "metadata": {
    "ExecuteTime": {
     "end_time": "2022-02-14T08:52:57.339018Z",
     "start_time": "2022-02-14T08:52:57.325053Z"
    }
   },
   "outputs": [],
   "source": [
    "# функция заменяет пропущенные значения в столбце на ноль\n",
    "def past_null(data, column):\n",
    "    flag = (data[column].isna())\n",
    "    data.loc[flag, column] = 0\n",
    "past_null(df_users, 'calls_count')\n",
    "past_null(df_users, 'minutes_used')\n",
    "past_null(df_users, 'sessions_count')\n",
    "past_null(df_users, 'gb_used')\n",
    "past_null(df_users, 'messages_count')"
   ]
  },
  {
   "cell_type": "markdown",
   "id": "c59975bd",
   "metadata": {},
   "source": [
    "После этого делаем снова проверку на пропуски"
   ]
  },
  {
   "cell_type": "code",
   "execution_count": 39,
   "id": "60a7d359",
   "metadata": {
    "ExecuteTime": {
     "end_time": "2022-02-14T08:52:57.353977Z",
     "start_time": "2022-02-14T08:52:57.341011Z"
    }
   },
   "outputs": [
    {
     "name": "stdout",
     "output_type": "stream",
     "text": [
      "calls_count       0.0\n",
      "minutes_used      0.0\n",
      "sessions_count    0.0\n",
      "gb_used           0.0\n",
      "messages_count    0.0\n",
      "tariff            0.0\n",
      "dtype: float64\n"
     ]
    }
   ],
   "source": [
    "nan_chek(df_users)"
   ]
  },
  {
   "cell_type": "markdown",
   "id": "08e666d1",
   "metadata": {},
   "source": [
    "#### Считаем помесячную выручку для каждого пользователя  \n",
    "Для этого нам понадобится:  \n",
    "- Вычислить минуты, смс и гб израсходаванные сверх тарифа\n",
    "- умножить их на тарифную ставку и сложить с ценой тарифного плана"
   ]
  },
  {
   "cell_type": "code",
   "execution_count": 40,
   "id": "098fa492",
   "metadata": {
    "ExecuteTime": {
     "end_time": "2022-02-14T08:52:57.384929Z",
     "start_time": "2022-02-14T08:52:57.356972Z"
    }
   },
   "outputs": [
    {
     "data": {
      "text/html": [
       "<div>\n",
       "<style scoped>\n",
       "    .dataframe tbody tr th:only-of-type {\n",
       "        vertical-align: middle;\n",
       "    }\n",
       "\n",
       "    .dataframe tbody tr th {\n",
       "        vertical-align: top;\n",
       "    }\n",
       "\n",
       "    .dataframe thead th {\n",
       "        text-align: right;\n",
       "    }\n",
       "</style>\n",
       "<table border=\"1\" class=\"dataframe\">\n",
       "  <thead>\n",
       "    <tr style=\"text-align: right;\">\n",
       "      <th></th>\n",
       "      <th></th>\n",
       "      <th>calls_count</th>\n",
       "      <th>minutes_used</th>\n",
       "      <th>sessions_count</th>\n",
       "      <th>gb_used</th>\n",
       "      <th>messages_count</th>\n",
       "      <th>tariff</th>\n",
       "    </tr>\n",
       "    <tr>\n",
       "      <th>user_id</th>\n",
       "      <th>month</th>\n",
       "      <th></th>\n",
       "      <th></th>\n",
       "      <th></th>\n",
       "      <th></th>\n",
       "      <th></th>\n",
       "      <th></th>\n",
       "    </tr>\n",
       "  </thead>\n",
       "  <tbody>\n",
       "    <tr>\n",
       "      <th rowspan=\"5\" valign=\"top\">1000</th>\n",
       "      <th>5</th>\n",
       "      <td>17.0</td>\n",
       "      <td>159.0</td>\n",
       "      <td>4.0</td>\n",
       "      <td>2.200674</td>\n",
       "      <td>22.0</td>\n",
       "      <td>ultra</td>\n",
       "    </tr>\n",
       "    <tr>\n",
       "      <th>6</th>\n",
       "      <td>28.0</td>\n",
       "      <td>172.0</td>\n",
       "      <td>44.0</td>\n",
       "      <td>22.689229</td>\n",
       "      <td>60.0</td>\n",
       "      <td>ultra</td>\n",
       "    </tr>\n",
       "    <tr>\n",
       "      <th>7</th>\n",
       "      <td>41.0</td>\n",
       "      <td>340.0</td>\n",
       "      <td>28.0</td>\n",
       "      <td>13.675430</td>\n",
       "      <td>75.0</td>\n",
       "      <td>ultra</td>\n",
       "    </tr>\n",
       "    <tr>\n",
       "      <th>8</th>\n",
       "      <td>42.0</td>\n",
       "      <td>408.0</td>\n",
       "      <td>27.0</td>\n",
       "      <td>13.726494</td>\n",
       "      <td>81.0</td>\n",
       "      <td>ultra</td>\n",
       "    </tr>\n",
       "    <tr>\n",
       "      <th>9</th>\n",
       "      <td>46.0</td>\n",
       "      <td>466.0</td>\n",
       "      <td>25.0</td>\n",
       "      <td>14.227451</td>\n",
       "      <td>57.0</td>\n",
       "      <td>ultra</td>\n",
       "    </tr>\n",
       "    <tr>\n",
       "      <th>...</th>\n",
       "      <th>...</th>\n",
       "      <td>...</td>\n",
       "      <td>...</td>\n",
       "      <td>...</td>\n",
       "      <td>...</td>\n",
       "      <td>...</td>\n",
       "      <td>...</td>\n",
       "    </tr>\n",
       "    <tr>\n",
       "      <th>1498</th>\n",
       "      <th>10</th>\n",
       "      <td>30.0</td>\n",
       "      <td>247.0</td>\n",
       "      <td>49.0</td>\n",
       "      <td>20.097031</td>\n",
       "      <td>42.0</td>\n",
       "      <td>smart</td>\n",
       "    </tr>\n",
       "    <tr>\n",
       "      <th rowspan=\"4\" valign=\"top\">1499</th>\n",
       "      <th>9</th>\n",
       "      <td>8.0</td>\n",
       "      <td>70.0</td>\n",
       "      <td>4.0</td>\n",
       "      <td>1.802490</td>\n",
       "      <td>11.0</td>\n",
       "      <td>smart</td>\n",
       "    </tr>\n",
       "    <tr>\n",
       "      <th>10</th>\n",
       "      <td>44.0</td>\n",
       "      <td>449.0</td>\n",
       "      <td>43.0</td>\n",
       "      <td>17.371592</td>\n",
       "      <td>48.0</td>\n",
       "      <td>smart</td>\n",
       "    </tr>\n",
       "    <tr>\n",
       "      <th>11</th>\n",
       "      <td>62.0</td>\n",
       "      <td>612.0</td>\n",
       "      <td>39.0</td>\n",
       "      <td>17.542295</td>\n",
       "      <td>59.0</td>\n",
       "      <td>smart</td>\n",
       "    </tr>\n",
       "    <tr>\n",
       "      <th>12</th>\n",
       "      <td>56.0</td>\n",
       "      <td>492.0</td>\n",
       "      <td>40.0</td>\n",
       "      <td>12.749590</td>\n",
       "      <td>66.0</td>\n",
       "      <td>smart</td>\n",
       "    </tr>\n",
       "  </tbody>\n",
       "</table>\n",
       "<p>3214 rows × 6 columns</p>\n",
       "</div>"
      ],
      "text/plain": [
       "               calls_count  minutes_used  sessions_count    gb_used  \\\n",
       "user_id month                                                         \n",
       "1000    5             17.0         159.0             4.0   2.200674   \n",
       "        6             28.0         172.0            44.0  22.689229   \n",
       "        7             41.0         340.0            28.0  13.675430   \n",
       "        8             42.0         408.0            27.0  13.726494   \n",
       "        9             46.0         466.0            25.0  14.227451   \n",
       "...                    ...           ...             ...        ...   \n",
       "1498    10            30.0         247.0            49.0  20.097031   \n",
       "1499    9              8.0          70.0             4.0   1.802490   \n",
       "        10            44.0         449.0            43.0  17.371592   \n",
       "        11            62.0         612.0            39.0  17.542295   \n",
       "        12            56.0         492.0            40.0  12.749590   \n",
       "\n",
       "               messages_count tariff  \n",
       "user_id month                         \n",
       "1000    5                22.0  ultra  \n",
       "        6                60.0  ultra  \n",
       "        7                75.0  ultra  \n",
       "        8                81.0  ultra  \n",
       "        9                57.0  ultra  \n",
       "...                       ...    ...  \n",
       "1498    10               42.0  smart  \n",
       "1499    9                11.0  smart  \n",
       "        10               48.0  smart  \n",
       "        11               59.0  smart  \n",
       "        12               66.0  smart  \n",
       "\n",
       "[3214 rows x 6 columns]"
      ]
     },
     "execution_count": 40,
     "metadata": {},
     "output_type": "execute_result"
    }
   ],
   "source": [
    "df_users"
   ]
  },
  {
   "cell_type": "markdown",
   "id": "61c50ccb",
   "metadata": {},
   "source": [
    "Теперь из значений таблицы df_users вычислим затраты на каждый месяц"
   ]
  },
  {
   "cell_type": "code",
   "execution_count": 41,
   "id": "4a729bce",
   "metadata": {
    "ExecuteTime": {
     "end_time": "2022-02-14T08:52:58.092034Z",
     "start_time": "2022-02-14T08:52:57.387889Z"
    },
    "scrolled": false
   },
   "outputs": [
    {
     "data": {
      "text/plain": [
       "user_id  month\n",
       "1000     5        1950.000000\n",
       "         6        1950.000000\n",
       "         7        1950.000000\n",
       "         8        1950.000000\n",
       "         9        1950.000000\n",
       "                     ...     \n",
       "1498     10       1569.406250\n",
       "1499     9         550.000000\n",
       "         10       1024.318359\n",
       "         11       1421.458984\n",
       "         12        598.000000\n",
       "Name: profit, Length: 3214, dtype: float64"
      ]
     },
     "execution_count": 41,
     "metadata": {},
     "output_type": "execute_result"
    }
   ],
   "source": [
    "def price(row):\n",
    "    user = (df_users.iloc[0].name[0])\n",
    "    min = 0\n",
    "    gb = 0\n",
    "    sms = 0\n",
    "    if row['tariff'] == 'smart':\n",
    "        # высчитываем количество минут сверхтарифа\n",
    "        if row['minutes_used'] > tariffs['minutes_included'][0]:\n",
    "            min = row['minutes_used'] - tariffs['minutes_included'][0]\n",
    "        # высчитываем количество потраченых гб сверх лимита\n",
    "        if row['gb_used'] > tariffs['gb_per_month_included'][0]:\n",
    "            gb = row['gb_used'] - tariffs['gb_per_month_included'][0]\n",
    "        # высчитываем количество смс сверхлимита\n",
    "        if row['messages_count'] > tariffs['messages_included'][0]:\n",
    "            sms = row['messages_count'] - tariffs['messages_included'][0]\n",
    "        \n",
    "        #высчитываем выручку по пользователям за каждый месяц\n",
    "        return (min * tariffs['rub_per_minute'][0] +\n",
    "                gb * tariffs['rub_per_gb'][0] + \n",
    "                sms * tariffs['rub_per_message'][0] +\n",
    "                tariffs['rub_monthly_fee'][0])\n",
    "    if row['tariff'] == 'ultra':\n",
    "        # высчитываем количество минут сверхтарифа\n",
    "        if row['minutes_used'] > tariffs['minutes_included'][1]:\n",
    "            min = row['minutes_used'] - tariffs['minutes_included'][1]\n",
    "        # высчитываем количество потраченых гб сверх лимита\n",
    "        if row['gb_used'] > tariffs['gb_per_month_included'][1]:\n",
    "            gb = row['gb_used'] - tariffs['gb_per_month_included'][1]\n",
    "        # высчитываем количество смс сверхлимита\n",
    "        if row['messages_count'] > tariffs['messages_included'][1]:\n",
    "            sms = row['messages_count'] - tariffs['messages_included'][1]\n",
    "        \n",
    "        #высчитываем выручку по пользователям за каждый месяц\n",
    "        return (min * tariffs['rub_per_minute'][1] +\n",
    "                gb * tariffs['rub_per_gb'][1] + \n",
    "                sms * tariffs['rub_per_message'][1] +\n",
    "                tariffs['rub_monthly_fee'][1])\n",
    "df_users['profit'] = df_users.apply(price, axis=1)\n",
    "df_users['profit']"
   ]
  },
  {
   "cell_type": "markdown",
   "id": "fadca110",
   "metadata": {},
   "source": [
    "Выполняем короткую проверку, что данные по всем пользователям попали в обработку, чтобы исключить возможную смену тарифа у пользователей."
   ]
  },
  {
   "cell_type": "code",
   "execution_count": 42,
   "id": "360c68f4",
   "metadata": {
    "ExecuteTime": {
     "end_time": "2022-02-14T08:52:58.107983Z",
     "start_time": "2022-02-14T08:52:58.092998Z"
    }
   },
   "outputs": [
    {
     "name": "stdout",
     "output_type": "stream",
     "text": [
      "calls_count       0.0\n",
      "minutes_used      0.0\n",
      "sessions_count    0.0\n",
      "gb_used           0.0\n",
      "messages_count    0.0\n",
      "tariff            0.0\n",
      "profit            0.0\n",
      "dtype: float64\n"
     ]
    }
   ],
   "source": [
    "nan_chek(df_users)"
   ]
  },
  {
   "cell_type": "markdown",
   "id": "3a930997",
   "metadata": {},
   "source": [
    "#### Выводы  \n",
    "- Мы успешно подготовили данные к дальнейшему анализу!\n",
    "- Данные изначально уже имели достаточно благостный вид и мы только свели все в удобную сводную табличку по пользователям и высчитали помесячную выручку с каждого пользователя."
   ]
  },
  {
   "cell_type": "code",
   "execution_count": 43,
   "id": "c9a2db51",
   "metadata": {
    "ExecuteTime": {
     "end_time": "2022-02-14T08:52:58.139874Z",
     "start_time": "2022-02-14T08:52:58.109954Z"
    }
   },
   "outputs": [
    {
     "data": {
      "text/html": [
       "<div>\n",
       "<style scoped>\n",
       "    .dataframe tbody tr th:only-of-type {\n",
       "        vertical-align: middle;\n",
       "    }\n",
       "\n",
       "    .dataframe tbody tr th {\n",
       "        vertical-align: top;\n",
       "    }\n",
       "\n",
       "    .dataframe thead th {\n",
       "        text-align: right;\n",
       "    }\n",
       "</style>\n",
       "<table border=\"1\" class=\"dataframe\">\n",
       "  <thead>\n",
       "    <tr style=\"text-align: right;\">\n",
       "      <th></th>\n",
       "      <th></th>\n",
       "      <th>calls_count</th>\n",
       "      <th>minutes_used</th>\n",
       "      <th>sessions_count</th>\n",
       "      <th>gb_used</th>\n",
       "      <th>messages_count</th>\n",
       "      <th>tariff</th>\n",
       "      <th>profit</th>\n",
       "    </tr>\n",
       "    <tr>\n",
       "      <th>user_id</th>\n",
       "      <th>month</th>\n",
       "      <th></th>\n",
       "      <th></th>\n",
       "      <th></th>\n",
       "      <th></th>\n",
       "      <th></th>\n",
       "      <th></th>\n",
       "      <th></th>\n",
       "    </tr>\n",
       "  </thead>\n",
       "  <tbody>\n",
       "    <tr>\n",
       "      <th rowspan=\"2\" valign=\"top\">1421</th>\n",
       "      <th>4</th>\n",
       "      <td>38.0</td>\n",
       "      <td>379.0</td>\n",
       "      <td>44.0</td>\n",
       "      <td>14.890352</td>\n",
       "      <td>44.0</td>\n",
       "      <td>smart</td>\n",
       "      <td>550.000000</td>\n",
       "    </tr>\n",
       "    <tr>\n",
       "      <th>12</th>\n",
       "      <td>36.0</td>\n",
       "      <td>335.0</td>\n",
       "      <td>44.0</td>\n",
       "      <td>14.257354</td>\n",
       "      <td>36.0</td>\n",
       "      <td>smart</td>\n",
       "      <td>550.000000</td>\n",
       "    </tr>\n",
       "    <tr>\n",
       "      <th rowspan=\"2\" valign=\"top\">1169</th>\n",
       "      <th>6</th>\n",
       "      <td>7.0</td>\n",
       "      <td>72.0</td>\n",
       "      <td>12.0</td>\n",
       "      <td>4.338027</td>\n",
       "      <td>2.0</td>\n",
       "      <td>smart</td>\n",
       "      <td>550.000000</td>\n",
       "    </tr>\n",
       "    <tr>\n",
       "      <th>12</th>\n",
       "      <td>30.0</td>\n",
       "      <td>281.0</td>\n",
       "      <td>33.0</td>\n",
       "      <td>10.687559</td>\n",
       "      <td>13.0</td>\n",
       "      <td>smart</td>\n",
       "      <td>550.000000</td>\n",
       "    </tr>\n",
       "    <tr>\n",
       "      <th>1171</th>\n",
       "      <th>3</th>\n",
       "      <td>19.0</td>\n",
       "      <td>158.0</td>\n",
       "      <td>14.0</td>\n",
       "      <td>5.818066</td>\n",
       "      <td>23.0</td>\n",
       "      <td>smart</td>\n",
       "      <td>550.000000</td>\n",
       "    </tr>\n",
       "    <tr>\n",
       "      <th>...</th>\n",
       "      <th>...</th>\n",
       "      <td>...</td>\n",
       "      <td>...</td>\n",
       "      <td>...</td>\n",
       "      <td>...</td>\n",
       "      <td>...</td>\n",
       "      <td>...</td>\n",
       "      <td>...</td>\n",
       "    </tr>\n",
       "    <tr>\n",
       "      <th>1286</th>\n",
       "      <th>12</th>\n",
       "      <td>83.0</td>\n",
       "      <td>739.0</td>\n",
       "      <td>92.0</td>\n",
       "      <td>34.285225</td>\n",
       "      <td>68.0</td>\n",
       "      <td>smart</td>\n",
       "      <td>5178.044922</td>\n",
       "    </tr>\n",
       "    <tr>\n",
       "      <th>1486</th>\n",
       "      <th>11</th>\n",
       "      <td>84.0</td>\n",
       "      <td>764.0</td>\n",
       "      <td>98.0</td>\n",
       "      <td>35.416123</td>\n",
       "      <td>96.0</td>\n",
       "      <td>smart</td>\n",
       "      <td>5563.224609</td>\n",
       "    </tr>\n",
       "    <tr>\n",
       "      <th>1042</th>\n",
       "      <th>12</th>\n",
       "      <td>94.0</td>\n",
       "      <td>728.0</td>\n",
       "      <td>98.0</td>\n",
       "      <td>36.294619</td>\n",
       "      <td>75.0</td>\n",
       "      <td>smart</td>\n",
       "      <td>5567.923828</td>\n",
       "    </tr>\n",
       "    <tr>\n",
       "      <th>1261</th>\n",
       "      <th>12</th>\n",
       "      <td>113.0</td>\n",
       "      <td>1074.0</td>\n",
       "      <td>94.0</td>\n",
       "      <td>31.885654</td>\n",
       "      <td>22.0</td>\n",
       "      <td>smart</td>\n",
       "      <td>5649.130859</td>\n",
       "    </tr>\n",
       "    <tr>\n",
       "      <th>1486</th>\n",
       "      <th>12</th>\n",
       "      <td>115.0</td>\n",
       "      <td>1007.0</td>\n",
       "      <td>101.0</td>\n",
       "      <td>37.648877</td>\n",
       "      <td>83.0</td>\n",
       "      <td>smart</td>\n",
       "      <td>6699.775391</td>\n",
       "    </tr>\n",
       "  </tbody>\n",
       "</table>\n",
       "<p>3214 rows × 7 columns</p>\n",
       "</div>"
      ],
      "text/plain": [
       "               calls_count  minutes_used  sessions_count    gb_used  \\\n",
       "user_id month                                                         \n",
       "1421    4             38.0         379.0            44.0  14.890352   \n",
       "        12            36.0         335.0            44.0  14.257354   \n",
       "1169    6              7.0          72.0            12.0   4.338027   \n",
       "        12            30.0         281.0            33.0  10.687559   \n",
       "1171    3             19.0         158.0            14.0   5.818066   \n",
       "...                    ...           ...             ...        ...   \n",
       "1286    12            83.0         739.0            92.0  34.285225   \n",
       "1486    11            84.0         764.0            98.0  35.416123   \n",
       "1042    12            94.0         728.0            98.0  36.294619   \n",
       "1261    12           113.0        1074.0            94.0  31.885654   \n",
       "1486    12           115.0        1007.0           101.0  37.648877   \n",
       "\n",
       "               messages_count tariff       profit  \n",
       "user_id month                                      \n",
       "1421    4                44.0  smart   550.000000  \n",
       "        12               36.0  smart   550.000000  \n",
       "1169    6                 2.0  smart   550.000000  \n",
       "        12               13.0  smart   550.000000  \n",
       "1171    3                23.0  smart   550.000000  \n",
       "...                       ...    ...          ...  \n",
       "1286    12               68.0  smart  5178.044922  \n",
       "1486    11               96.0  smart  5563.224609  \n",
       "1042    12               75.0  smart  5567.923828  \n",
       "1261    12               22.0  smart  5649.130859  \n",
       "1486    12               83.0  smart  6699.775391  \n",
       "\n",
       "[3214 rows x 7 columns]"
      ]
     },
     "execution_count": 43,
     "metadata": {},
     "output_type": "execute_result"
    }
   ],
   "source": [
    "df_users.sort_values(by='profit')"
   ]
  },
  {
   "cell_type": "markdown",
   "id": "f5ec0a04",
   "metadata": {},
   "source": [
    "### Анализ данных\n",
    "Опишим поведение клиентов оператора, исходя из выборки и ответим на вопрос: Сколько минут разговора, сколько сообщений и какой объём интернет-трафика требуется пользователям каждого тарифа в месяц?  \n",
    "Для этого: \n",
    "- Посчитаем среднее их количество, дисперсию и стандартное отклонение. \n",
    "- Построим гистограммы и опишем распределения."
   ]
  },
  {
   "cell_type": "markdown",
   "id": "f7916ea9",
   "metadata": {},
   "source": [
    "### Предобработка данных\n",
    "- Открываем таблицы и подключаем библиотеки\n",
    "- Исследуем пропуски\n",
    "- Приводим данные к нужным типам\n",
    "- Удаляем дубликаты\n",
    "- Находим и устраняем ошибки в данных"
   ]
  },
  {
   "cell_type": "markdown",
   "id": "355d2162",
   "metadata": {},
   "source": [
    "Чтобы посчитать среднее, дисперсию и стандардное отклонение воспользуемся прекрасной функцией `describe`"
   ]
  },
  {
   "cell_type": "code",
   "execution_count": 44,
   "id": "980bb072",
   "metadata": {
    "ExecuteTime": {
     "end_time": "2022-02-14T08:52:58.649773Z",
     "start_time": "2022-02-14T08:52:58.602899Z"
    }
   },
   "outputs": [
    {
     "data": {
      "text/html": [
       "<div>\n",
       "<style scoped>\n",
       "    .dataframe tbody tr th:only-of-type {\n",
       "        vertical-align: middle;\n",
       "    }\n",
       "\n",
       "    .dataframe tbody tr th {\n",
       "        vertical-align: top;\n",
       "    }\n",
       "\n",
       "    .dataframe thead th {\n",
       "        text-align: right;\n",
       "    }\n",
       "</style>\n",
       "<table border=\"1\" class=\"dataframe\">\n",
       "  <thead>\n",
       "    <tr style=\"text-align: right;\">\n",
       "      <th></th>\n",
       "      <th>calls_count</th>\n",
       "      <th>minutes_used</th>\n",
       "      <th>sessions_count</th>\n",
       "      <th>gb_used</th>\n",
       "      <th>messages_count</th>\n",
       "      <th>profit</th>\n",
       "    </tr>\n",
       "  </thead>\n",
       "  <tbody>\n",
       "    <tr>\n",
       "      <th>count</th>\n",
       "      <td>985.000000</td>\n",
       "      <td>985.000000</td>\n",
       "      <td>985.000000</td>\n",
       "      <td>985.000000</td>\n",
       "      <td>985.000000</td>\n",
       "      <td>985.000000</td>\n",
       "    </tr>\n",
       "    <tr>\n",
       "      <th>mean</th>\n",
       "      <td>59.236548</td>\n",
       "      <td>526.623350</td>\n",
       "      <td>36.631472</td>\n",
       "      <td>19.012505</td>\n",
       "      <td>49.363452</td>\n",
       "      <td>2059.868918</td>\n",
       "    </tr>\n",
       "    <tr>\n",
       "      <th>std</th>\n",
       "      <td>35.562722</td>\n",
       "      <td>317.606098</td>\n",
       "      <td>18.778156</td>\n",
       "      <td>9.850753</td>\n",
       "      <td>47.804457</td>\n",
       "      <td>354.880790</td>\n",
       "    </tr>\n",
       "    <tr>\n",
       "      <th>min</th>\n",
       "      <td>0.000000</td>\n",
       "      <td>0.000000</td>\n",
       "      <td>0.000000</td>\n",
       "      <td>0.000000</td>\n",
       "      <td>0.000000</td>\n",
       "      <td>1950.000000</td>\n",
       "    </tr>\n",
       "    <tr>\n",
       "      <th>25%</th>\n",
       "      <td>33.000000</td>\n",
       "      <td>284.000000</td>\n",
       "      <td>22.000000</td>\n",
       "      <td>11.494395</td>\n",
       "      <td>6.000000</td>\n",
       "      <td>1950.000000</td>\n",
       "    </tr>\n",
       "    <tr>\n",
       "      <th>50%</th>\n",
       "      <td>58.000000</td>\n",
       "      <td>518.000000</td>\n",
       "      <td>36.000000</td>\n",
       "      <td>18.855479</td>\n",
       "      <td>38.000000</td>\n",
       "      <td>1950.000000</td>\n",
       "    </tr>\n",
       "    <tr>\n",
       "      <th>75%</th>\n",
       "      <td>84.000000</td>\n",
       "      <td>752.000000</td>\n",
       "      <td>49.000000</td>\n",
       "      <td>26.208682</td>\n",
       "      <td>79.000000</td>\n",
       "      <td>1950.000000</td>\n",
       "    </tr>\n",
       "    <tr>\n",
       "      <th>max</th>\n",
       "      <td>190.000000</td>\n",
       "      <td>1673.000000</td>\n",
       "      <td>94.000000</td>\n",
       "      <td>48.579775</td>\n",
       "      <td>224.000000</td>\n",
       "      <td>4736.966309</td>\n",
       "    </tr>\n",
       "  </tbody>\n",
       "</table>\n",
       "</div>"
      ],
      "text/plain": [
       "       calls_count  minutes_used  sessions_count     gb_used  messages_count  \\\n",
       "count   985.000000    985.000000      985.000000  985.000000      985.000000   \n",
       "mean     59.236548    526.623350       36.631472   19.012505       49.363452   \n",
       "std      35.562722    317.606098       18.778156    9.850753       47.804457   \n",
       "min       0.000000      0.000000        0.000000    0.000000        0.000000   \n",
       "25%      33.000000    284.000000       22.000000   11.494395        6.000000   \n",
       "50%      58.000000    518.000000       36.000000   18.855479       38.000000   \n",
       "75%      84.000000    752.000000       49.000000   26.208682       79.000000   \n",
       "max     190.000000   1673.000000       94.000000   48.579775      224.000000   \n",
       "\n",
       "            profit  \n",
       "count   985.000000  \n",
       "mean   2059.868918  \n",
       "std     354.880790  \n",
       "min    1950.000000  \n",
       "25%    1950.000000  \n",
       "50%    1950.000000  \n",
       "75%    1950.000000  \n",
       "max    4736.966309  "
      ]
     },
     "metadata": {},
     "output_type": "display_data"
    },
    {
     "data": {
      "text/html": [
       "<div>\n",
       "<style scoped>\n",
       "    .dataframe tbody tr th:only-of-type {\n",
       "        vertical-align: middle;\n",
       "    }\n",
       "\n",
       "    .dataframe tbody tr th {\n",
       "        vertical-align: top;\n",
       "    }\n",
       "\n",
       "    .dataframe thead th {\n",
       "        text-align: right;\n",
       "    }\n",
       "</style>\n",
       "<table border=\"1\" class=\"dataframe\">\n",
       "  <thead>\n",
       "    <tr style=\"text-align: right;\">\n",
       "      <th></th>\n",
       "      <th>calls_count</th>\n",
       "      <th>minutes_used</th>\n",
       "      <th>sessions_count</th>\n",
       "      <th>gb_used</th>\n",
       "      <th>messages_count</th>\n",
       "      <th>profit</th>\n",
       "    </tr>\n",
       "  </thead>\n",
       "  <tbody>\n",
       "    <tr>\n",
       "      <th>count</th>\n",
       "      <td>2229.000000</td>\n",
       "      <td>2229.000000</td>\n",
       "      <td>2229.000000</td>\n",
       "      <td>2229.000000</td>\n",
       "      <td>2229.000000</td>\n",
       "      <td>2229.000000</td>\n",
       "    </tr>\n",
       "    <tr>\n",
       "      <th>mean</th>\n",
       "      <td>46.947510</td>\n",
       "      <td>417.934948</td>\n",
       "      <td>42.043966</td>\n",
       "      <td>15.828503</td>\n",
       "      <td>33.384029</td>\n",
       "      <td>1230.442346</td>\n",
       "    </tr>\n",
       "    <tr>\n",
       "      <th>std</th>\n",
       "      <td>21.039171</td>\n",
       "      <td>190.313730</td>\n",
       "      <td>14.807528</td>\n",
       "      <td>5.732887</td>\n",
       "      <td>28.227876</td>\n",
       "      <td>785.720816</td>\n",
       "    </tr>\n",
       "    <tr>\n",
       "      <th>min</th>\n",
       "      <td>0.000000</td>\n",
       "      <td>0.000000</td>\n",
       "      <td>0.000000</td>\n",
       "      <td>0.000000</td>\n",
       "      <td>0.000000</td>\n",
       "      <td>550.000000</td>\n",
       "    </tr>\n",
       "    <tr>\n",
       "      <th>25%</th>\n",
       "      <td>32.000000</td>\n",
       "      <td>282.000000</td>\n",
       "      <td>34.000000</td>\n",
       "      <td>12.346689</td>\n",
       "      <td>10.000000</td>\n",
       "      <td>550.000000</td>\n",
       "    </tr>\n",
       "    <tr>\n",
       "      <th>50%</th>\n",
       "      <td>47.000000</td>\n",
       "      <td>422.000000</td>\n",
       "      <td>43.000000</td>\n",
       "      <td>16.119961</td>\n",
       "      <td>28.000000</td>\n",
       "      <td>957.978516</td>\n",
       "    </tr>\n",
       "    <tr>\n",
       "      <th>75%</th>\n",
       "      <td>61.000000</td>\n",
       "      <td>545.000000</td>\n",
       "      <td>51.000000</td>\n",
       "      <td>19.573174</td>\n",
       "      <td>51.000000</td>\n",
       "      <td>1665.488281</td>\n",
       "    </tr>\n",
       "    <tr>\n",
       "      <th>max</th>\n",
       "      <td>162.000000</td>\n",
       "      <td>1435.000000</td>\n",
       "      <td>101.000000</td>\n",
       "      <td>37.648877</td>\n",
       "      <td>143.000000</td>\n",
       "      <td>6699.775391</td>\n",
       "    </tr>\n",
       "  </tbody>\n",
       "</table>\n",
       "</div>"
      ],
      "text/plain": [
       "       calls_count  minutes_used  sessions_count      gb_used  messages_count  \\\n",
       "count  2229.000000   2229.000000     2229.000000  2229.000000     2229.000000   \n",
       "mean     46.947510    417.934948       42.043966    15.828503       33.384029   \n",
       "std      21.039171    190.313730       14.807528     5.732887       28.227876   \n",
       "min       0.000000      0.000000        0.000000     0.000000        0.000000   \n",
       "25%      32.000000    282.000000       34.000000    12.346689       10.000000   \n",
       "50%      47.000000    422.000000       43.000000    16.119961       28.000000   \n",
       "75%      61.000000    545.000000       51.000000    19.573174       51.000000   \n",
       "max     162.000000   1435.000000      101.000000    37.648877      143.000000   \n",
       "\n",
       "            profit  \n",
       "count  2229.000000  \n",
       "mean   1230.442346  \n",
       "std     785.720816  \n",
       "min     550.000000  \n",
       "25%     550.000000  \n",
       "50%     957.978516  \n",
       "75%    1665.488281  \n",
       "max    6699.775391  "
      ]
     },
     "execution_count": 44,
     "metadata": {},
     "output_type": "execute_result"
    }
   ],
   "source": [
    "ultra_describe = df_users.query('tariff == \"ultra\"').describe()\n",
    "smart_describe = df_users.query('tariff == \"smart\"').describe()\n",
    "display(ultra_describe)\n",
    "smart_describe"
   ]
  },
  {
   "cell_type": "markdown",
   "id": "b7c10df3",
   "metadata": {},
   "source": [
    "Очень информативно, но совершенно не наглядно. Поэтому будем строить графики по каждому столбцу отдельно"
   ]
  },
  {
   "cell_type": "code",
   "execution_count": 55,
   "id": "6f1df1a9",
   "metadata": {
    "ExecuteTime": {
     "end_time": "2022-02-14T09:02:22.040007Z",
     "start_time": "2022-02-14T09:02:22.019064Z"
    }
   },
   "outputs": [],
   "source": [
    "#напишем функцию для автоматизации части выводов\n",
    "def analiz(df, column):\n",
    "    mean_u = df[df['tariff']=='ultra'][column].mean()\n",
    "    mean_s = df[df['tariff']=='smart'][column].mean()\n",
    "    variance_u = np.var(df[df['tariff']=='ultra'][column])\n",
    "    variance_s = np.var(df[df['tariff']=='smart'][column])\n",
    "    st_dev_u = np.std(df[df['tariff']=='ultra'][column])\n",
    "    st_dev_s = np.std(df[df['tariff']=='smart'][column])\n",
    "    return pd.DataFrame(data={\n",
    "        'ultra':[mean_u, variance_u, st_dev_u],\n",
    "        'smart':[mean_s, variance_s, st_dev_s]},\n",
    "                      index=['Средние траты в на пользователя месяц', 'Дисперсия','Стандартное отклонение'])\n"
   ]
  },
  {
   "cell_type": "code",
   "execution_count": 53,
   "id": "6b464e26",
   "metadata": {
    "ExecuteTime": {
     "end_time": "2022-02-14T09:01:24.112470Z",
     "start_time": "2022-02-14T09:01:24.097509Z"
    }
   },
   "outputs": [],
   "source": [
    "# эта функция увеличит размер всех графиков\n",
    "plt.rcParams['figure.figsize'] = (15,10)\n",
    "\n",
    "def vio(df,x,y):\n",
    "    sns.violinplot(y=y, \n",
    "                   x=x,\n",
    "                   data=df, \n",
    "                   split=True, \n",
    "                   inner=\"box\", \n",
    "                   linewidth=1,\n",
    "                   palette=\"Set2\",\n",
    "                   scale=\"count\",\n",
    "                  )\n",
    "    plt.grid()"
   ]
  },
  {
   "cell_type": "markdown",
   "id": "52fe7ab9",
   "metadata": {},
   "source": [
    "**Посмотрим на поведение клиентов оператора относительно использования минут звонков**"
   ]
  },
  {
   "cell_type": "code",
   "execution_count": 47,
   "id": "04096385",
   "metadata": {
    "ExecuteTime": {
     "end_time": "2022-02-14T08:53:01.059133Z",
     "start_time": "2022-02-14T08:53:00.888590Z"
    }
   },
   "outputs": [
    {
     "data": {
      "image/png": "[encoded data removed]",
      "text/plain": [
       "<Figure size 1080x720 with 1 Axes>"
      ]
     },
     "metadata": {
      "needs_background": "light"
     },
     "output_type": "display_data"
    }
   ],
   "source": [
    "vio(df_users, 'tariff', 'minutes_used')"
   ]
  },
  {
   "cell_type": "code",
   "execution_count": 56,
   "id": "c089823e",
   "metadata": {
    "ExecuteTime": {
     "end_time": "2022-02-14T09:02:25.494076Z",
     "start_time": "2022-02-14T09:02:25.471112Z"
    },
    "scrolled": false
   },
   "outputs": [
    {
     "data": {
      "text/html": [
       "<div>\n",
       "<style scoped>\n",
       "    .dataframe tbody tr th:only-of-type {\n",
       "        vertical-align: middle;\n",
       "    }\n",
       "\n",
       "    .dataframe tbody tr th {\n",
       "        vertical-align: top;\n",
       "    }\n",
       "\n",
       "    .dataframe thead th {\n",
       "        text-align: right;\n",
       "    }\n",
       "</style>\n",
       "<table border=\"1\" class=\"dataframe\">\n",
       "  <thead>\n",
       "    <tr style=\"text-align: right;\">\n",
       "      <th></th>\n",
       "      <th>ultra</th>\n",
       "      <th>smart</th>\n",
       "    </tr>\n",
       "  </thead>\n",
       "  <tbody>\n",
       "    <tr>\n",
       "      <th>Средние траты в на пользователя месяц</th>\n",
       "      <td>526.623350</td>\n",
       "      <td>417.934948</td>\n",
       "    </tr>\n",
       "    <tr>\n",
       "      <th>Дисперсия</th>\n",
       "      <td>100771.223617</td>\n",
       "      <td>36203.066652</td>\n",
       "    </tr>\n",
       "    <tr>\n",
       "      <th>Стандартное отклонение</th>\n",
       "      <td>317.444836</td>\n",
       "      <td>190.271035</td>\n",
       "    </tr>\n",
       "  </tbody>\n",
       "</table>\n",
       "</div>"
      ],
      "text/plain": [
       "                                               ultra         smart\n",
       "Средние траты в на пользователя месяц     526.623350    417.934948\n",
       "Дисперсия                              100771.223617  36203.066652\n",
       "Стандартное отклонение                    317.444836    190.271035"
      ]
     },
     "execution_count": 56,
     "metadata": {},
     "output_type": "execute_result"
    }
   ],
   "source": [
    "analiz(df_users, 'minutes_used')"
   ]
  },
  {
   "cell_type": "markdown",
   "id": "0eadc166",
   "metadata": {},
   "source": [
    "- Примерно 30% месяцев пользователям тарифа smart не хватило выделенных тарифом 500 минут.\n",
    "- Рекорд использованных минут в месяц принадлежит пользователю тарифа ultra и составляет 1673 минут\n",
    "- Больше 25% месяцев пользователи тарифа ultra ежемесячно использовали более 750 минут\n",
    "- В абсолютном большинстве месяцев пользователи тарифа smart не использовали больше 1000 минут в месяц"
   ]
  },
  {
   "cell_type": "markdown",
   "id": "89504f41",
   "metadata": {},
   "source": [
    "**Посмотрим на количество сообщений**"
   ]
  },
  {
   "cell_type": "code",
   "execution_count": 49,
   "id": "a8ed7c1b",
   "metadata": {},
   "outputs": [
    {
     "data": {
      "image/png": "[encoded data removed]",
      "text/plain": [
       "<Figure size 1080x720 with 1 Axes>"
      ]
     },
     "metadata": {
      "needs_background": "light"
     },
     "output_type": "display_data"
    }
   ],
   "source": [
    "vio(df_users, 'tariff', 'messages_count')"
   ]
  },
  {
   "cell_type": "code",
   "execution_count": 57,
   "id": "b0f09a45",
   "metadata": {
    "ExecuteTime": {
     "end_time": "2022-02-14T09:02:51.284823Z",
     "start_time": "2022-02-14T09:02:51.259891Z"
    },
    "scrolled": false
   },
   "outputs": [
    {
     "data": {
      "text/html": [
       "<div>\n",
       "<style scoped>\n",
       "    .dataframe tbody tr th:only-of-type {\n",
       "        vertical-align: middle;\n",
       "    }\n",
       "\n",
       "    .dataframe tbody tr th {\n",
       "        vertical-align: top;\n",
       "    }\n",
       "\n",
       "    .dataframe thead th {\n",
       "        text-align: right;\n",
       "    }\n",
       "</style>\n",
       "<table border=\"1\" class=\"dataframe\">\n",
       "  <thead>\n",
       "    <tr style=\"text-align: right;\">\n",
       "      <th></th>\n",
       "      <th>ultra</th>\n",
       "      <th>smart</th>\n",
       "    </tr>\n",
       "  </thead>\n",
       "  <tbody>\n",
       "    <tr>\n",
       "      <th>Средние траты в на пользователя месяц</th>\n",
       "      <td>49.363452</td>\n",
       "      <td>33.384029</td>\n",
       "    </tr>\n",
       "    <tr>\n",
       "      <th>Дисперсия</th>\n",
       "      <td>2282.946075</td>\n",
       "      <td>796.455483</td>\n",
       "    </tr>\n",
       "    <tr>\n",
       "      <th>Стандартное отклонение</th>\n",
       "      <td>47.780185</td>\n",
       "      <td>28.221543</td>\n",
       "    </tr>\n",
       "  </tbody>\n",
       "</table>\n",
       "</div>"
      ],
      "text/plain": [
       "                                             ultra       smart\n",
       "Средние траты в на пользователя месяц    49.363452   33.384029\n",
       "Дисперсия                              2282.946075  796.455483\n",
       "Стандартное отклонение                   47.780185   28.221543"
      ]
     },
     "execution_count": 57,
     "metadata": {},
     "output_type": "execute_result"
    }
   ],
   "source": [
    "analiz(df_users, 'messages_count')"
   ]
  },
  {
   "cell_type": "markdown",
   "id": "b7c11de6",
   "metadata": {},
   "source": [
    "- В среднем 25% процентов месяцев пользователи тарифа `smart` выходили за предел лимита в 50 смс\n",
    "- никто из пользователей тарифа ultra не истратил и четверти лимита смс\n",
    "- пользователи имеют тенденцию не пользоваться смс"
   ]
  },
  {
   "cell_type": "markdown",
   "id": "3b91c9c1",
   "metadata": {},
   "source": [
    "**Интернет трафик:**"
   ]
  },
  {
   "cell_type": "code",
   "execution_count": 51,
   "id": "46dc966e",
   "metadata": {},
   "outputs": [
    {
     "data": {
      "image/png": "[encoded data removed]",
      "text/plain": [
       "<Figure size 1080x720 with 1 Axes>"
      ]
     },
     "metadata": {
      "needs_background": "light"
     },
     "output_type": "display_data"
    }
   ],
   "source": [
    "vio(df_users, 'tariff', 'gb_used')"
   ]
  },
  {
   "cell_type": "code",
   "execution_count": 58,
   "id": "4a27667a",
   "metadata": {
    "ExecuteTime": {
     "end_time": "2022-02-14T09:03:01.137064Z",
     "start_time": "2022-02-14T09:03:01.118083Z"
    },
    "scrolled": false
   },
   "outputs": [
    {
     "data": {
      "text/html": [
       "<div>\n",
       "<style scoped>\n",
       "    .dataframe tbody tr th:only-of-type {\n",
       "        vertical-align: middle;\n",
       "    }\n",
       "\n",
       "    .dataframe tbody tr th {\n",
       "        vertical-align: top;\n",
       "    }\n",
       "\n",
       "    .dataframe thead th {\n",
       "        text-align: right;\n",
       "    }\n",
       "</style>\n",
       "<table border=\"1\" class=\"dataframe\">\n",
       "  <thead>\n",
       "    <tr style=\"text-align: right;\">\n",
       "      <th></th>\n",
       "      <th>ultra</th>\n",
       "      <th>smart</th>\n",
       "    </tr>\n",
       "  </thead>\n",
       "  <tbody>\n",
       "    <tr>\n",
       "      <th>Средние траты в на пользователя месяц</th>\n",
       "      <td>19.012505</td>\n",
       "      <td>15.828503</td>\n",
       "    </tr>\n",
       "    <tr>\n",
       "      <th>Дисперсия</th>\n",
       "      <td>96.938813</td>\n",
       "      <td>32.851253</td>\n",
       "    </tr>\n",
       "    <tr>\n",
       "      <th>Стандартное отклонение</th>\n",
       "      <td>9.845751</td>\n",
       "      <td>5.731601</td>\n",
       "    </tr>\n",
       "  </tbody>\n",
       "</table>\n",
       "</div>"
      ],
      "text/plain": [
       "                                           ultra      smart\n",
       "Средние траты в на пользователя месяц  19.012505  15.828503\n",
       "Дисперсия                              96.938813  32.851253\n",
       "Стандартное отклонение                  9.845751   5.731601"
      ]
     },
     "execution_count": 58,
     "metadata": {},
     "output_type": "execute_result"
    }
   ],
   "source": [
    "analiz(df_users, 'gb_used')"
   ]
  },
  {
   "cell_type": "markdown",
   "id": "2c5997b3",
   "metadata": {},
   "source": [
    "- Пользователи тарифа `ultra` в среднем используют больше различного трафика, чем пользователи тарифа `smart`\n",
    "- Пользователям тарифа `smart` в среднем не хватает 15 гб в месяц\n",
    "- Распределения похожи на нормальные\n",
    "- Стандартные отклонения по разным видам трафика между тарифами сильно отличаются"
   ]
  },
  {
   "cell_type": "code",
   "execution_count": 53,
   "id": "d646795d",
   "metadata": {},
   "outputs": [
    {
     "data": {
      "text/html": [
       "<div>\n",
       "<style scoped>\n",
       "    .dataframe tbody tr th:only-of-type {\n",
       "        vertical-align: middle;\n",
       "    }\n",
       "\n",
       "    .dataframe tbody tr th {\n",
       "        vertical-align: top;\n",
       "    }\n",
       "\n",
       "    .dataframe thead th {\n",
       "        text-align: right;\n",
       "    }\n",
       "</style>\n",
       "<table border=\"1\" class=\"dataframe\">\n",
       "  <thead>\n",
       "    <tr style=\"text-align: right;\">\n",
       "      <th></th>\n",
       "      <th>messages_included</th>\n",
       "      <th>mb_per_month_included</th>\n",
       "      <th>minutes_included</th>\n",
       "      <th>rub_monthly_fee</th>\n",
       "      <th>rub_per_gb</th>\n",
       "      <th>rub_per_message</th>\n",
       "      <th>rub_per_minute</th>\n",
       "      <th>tariff_name</th>\n",
       "      <th>gb_per_month_included</th>\n",
       "    </tr>\n",
       "  </thead>\n",
       "  <tbody>\n",
       "    <tr>\n",
       "      <th>0</th>\n",
       "      <td>50</td>\n",
       "      <td>15360</td>\n",
       "      <td>500</td>\n",
       "      <td>550</td>\n",
       "      <td>200</td>\n",
       "      <td>3</td>\n",
       "      <td>3</td>\n",
       "      <td>smart</td>\n",
       "      <td>15</td>\n",
       "    </tr>\n",
       "    <tr>\n",
       "      <th>1</th>\n",
       "      <td>1000</td>\n",
       "      <td>30720</td>\n",
       "      <td>3000</td>\n",
       "      <td>1950</td>\n",
       "      <td>150</td>\n",
       "      <td>1</td>\n",
       "      <td>1</td>\n",
       "      <td>ultra</td>\n",
       "      <td>30</td>\n",
       "    </tr>\n",
       "  </tbody>\n",
       "</table>\n",
       "</div>"
      ],
      "text/plain": [
       "   messages_included  mb_per_month_included  minutes_included  \\\n",
       "0                 50                  15360               500   \n",
       "1               1000                  30720              3000   \n",
       "\n",
       "   rub_monthly_fee  rub_per_gb  rub_per_message  rub_per_minute tariff_name  \\\n",
       "0              550         200                3               3       smart   \n",
       "1             1950         150                1               1       ultra   \n",
       "\n",
       "   gb_per_month_included  \n",
       "0                     15  \n",
       "1                     30  "
      ]
     },
     "execution_count": 53,
     "metadata": {},
     "output_type": "execute_result"
    }
   ],
   "source": [
    "tariffs"
   ]
  },
  {
   "cell_type": "markdown",
   "id": "aa2ca472",
   "metadata": {},
   "source": [
    "Проанализируем выручку по пользователям"
   ]
  },
  {
   "cell_type": "code",
   "execution_count": 54,
   "id": "ef16e97e",
   "metadata": {},
   "outputs": [
    {
     "data": {
      "image/png": "[encoded data removed]",
      "text/plain": [
       "<Figure size 1080x720 with 1 Axes>"
      ]
     },
     "metadata": {
      "needs_background": "light"
     },
     "output_type": "display_data"
    }
   ],
   "source": [
    "vio(df_users, 'tariff', 'profit')"
   ]
  },
  {
   "cell_type": "code",
   "execution_count": 59,
   "id": "c806f60b",
   "metadata": {
    "ExecuteTime": {
     "end_time": "2022-02-14T09:03:08.401455Z",
     "start_time": "2022-02-14T09:03:08.387505Z"
    },
    "scrolled": false
   },
   "outputs": [
    {
     "data": {
      "text/html": [
       "<div>\n",
       "<style scoped>\n",
       "    .dataframe tbody tr th:only-of-type {\n",
       "        vertical-align: middle;\n",
       "    }\n",
       "\n",
       "    .dataframe tbody tr th {\n",
       "        vertical-align: top;\n",
       "    }\n",
       "\n",
       "    .dataframe thead th {\n",
       "        text-align: right;\n",
       "    }\n",
       "</style>\n",
       "<table border=\"1\" class=\"dataframe\">\n",
       "  <thead>\n",
       "    <tr style=\"text-align: right;\">\n",
       "      <th></th>\n",
       "      <th>ultra</th>\n",
       "      <th>smart</th>\n",
       "    </tr>\n",
       "  </thead>\n",
       "  <tbody>\n",
       "    <tr>\n",
       "      <th>Средние траты в на пользователя месяц</th>\n",
       "      <td>2059.868918</td>\n",
       "      <td>1230.442346</td>\n",
       "    </tr>\n",
       "    <tr>\n",
       "      <th>Дисперсия</th>\n",
       "      <td>125812.516562</td>\n",
       "      <td>617080.234505</td>\n",
       "    </tr>\n",
       "    <tr>\n",
       "      <th>Стандартное отклонение</th>\n",
       "      <td>354.700601</td>\n",
       "      <td>785.544546</td>\n",
       "    </tr>\n",
       "  </tbody>\n",
       "</table>\n",
       "</div>"
      ],
      "text/plain": [
       "                                               ultra          smart\n",
       "Средние траты в на пользователя месяц    2059.868918    1230.442346\n",
       "Дисперсия                              125812.516562  617080.234505\n",
       "Стандартное отклонение                    354.700601     785.544546"
      ]
     },
     "execution_count": 59,
     "metadata": {},
     "output_type": "execute_result"
    }
   ],
   "source": [
    "analiz(df_users, 'profit')"
   ]
  },
  {
   "cell_type": "markdown",
   "id": "be7315c9",
   "metadata": {},
   "source": [
    "- Абсолютное большинство пользователей тарифа `ultra` не переплачивает свою базисную тарифную ставку в 1950 рублей\n",
    "- Пользователи тарифа `smart`в абсолютном большинстве случаев платят меньше пользователей тарифа `ultra`\n",
    "- Несмотря на то, что медиана смещена на расход 1000 в месяц, значительное количество (примерно 25 %) пользователей тарифа `smart` укладываются в заданные лимиты\n",
    "- Дисперсия и стандартное отклонение тарифов сильно отличаются, что будет для нас важно при проверке гипотез"
   ]
  },
  {
   "cell_type": "markdown",
   "id": "0ef95877",
   "metadata": {},
   "source": [
    "### Проверка гипотез  \n",
    "  \n",
    "Будем проверять наши выводы для генеральной совокупности. Успешен ли также тариф `smart` в генеральной совокупности, также как он успешен в нашей подборке? Давайте проверим) Для этого мы выдвинем нулевую гипотезу, которая будет утверждать о равности средней выручки генеральных совокупностей, а в случае ее провала, будем считать нашу гипотезу большей успешности тарифа `smart` рабочей\n",
    "\n",
    "Сформулируем нулевую и альтернативную гипотизы:\n",
    "- Н0: Средняя выручка генеральной совокупности пользователей тарифа `smart`, равна средняя выручки генеральной совокупности пользователей тарифа `ultra`\n",
    "- Н1: Средняя выручка генеральной совокупности пользователей тарифа `smart`, не равна средней выручки генеральной совокупности пользователей тарифа `ultra`"
   ]
  },
  {
   "cell_type": "code",
   "execution_count": 56,
   "id": "83f712b1",
   "metadata": {},
   "outputs": [
    {
     "name": "stdout",
     "output_type": "stream",
     "text": [
      "p-значение: 0.0000000000\n",
      "Отвергаем нулевую гипотезу\n"
     ]
    }
   ],
   "source": [
    "sample_1 = df_users[df_users['tariff']=='ultra']['profit']\n",
    "sample_2 = df_users[df_users['tariff']=='smart']['profit']\n",
    "results = st.ttest_ind(\n",
    "    sample_1,\n",
    "    sample_2,\n",
    "    equal_var = False)\n",
    "print(f'p-значение: {results.pvalue:.10f}')\n",
    "alpha = 0.05\n",
    "if (results.pvalue < alpha):\n",
    "    print(\"Отвергаем нулевую гипотезу\")\n",
    "else:\n",
    "    print(\"Не получилось отвергнуть нулевую гипотезу\") "
   ]
  },
  {
   "cell_type": "markdown",
   "id": "9b16d387",
   "metadata": {},
   "source": [
    "### Выводы\n",
    "- Крайне мало вероятно что тарифы приносят однинаковое количество средств, и согластно настоящей выборке можно сделать вывод, что тариф `ultra` действительно более выгоден оператору."
   ]
  },
  {
   "cell_type": "markdown",
   "id": "122cb548",
   "metadata": {},
   "source": [
    "Теперь сравним наши данные по выручке по Москве с другими городами. Для этого добавил столбец с городами в наш датафрейм"
   ]
  },
  {
   "cell_type": "code",
   "execution_count": 57,
   "id": "f2d8aecf",
   "metadata": {},
   "outputs": [
    {
     "data": {
      "text/html": [
       "<div>\n",
       "<style scoped>\n",
       "    .dataframe tbody tr th:only-of-type {\n",
       "        vertical-align: middle;\n",
       "    }\n",
       "\n",
       "    .dataframe tbody tr th {\n",
       "        vertical-align: top;\n",
       "    }\n",
       "\n",
       "    .dataframe thead th {\n",
       "        text-align: right;\n",
       "    }\n",
       "</style>\n",
       "<table border=\"1\" class=\"dataframe\">\n",
       "  <thead>\n",
       "    <tr style=\"text-align: right;\">\n",
       "      <th></th>\n",
       "      <th></th>\n",
       "      <th>calls_count</th>\n",
       "      <th>minutes_used</th>\n",
       "      <th>sessions_count</th>\n",
       "      <th>gb_used</th>\n",
       "      <th>messages_count</th>\n",
       "      <th>tariff</th>\n",
       "      <th>profit</th>\n",
       "      <th>city</th>\n",
       "    </tr>\n",
       "    <tr>\n",
       "      <th>user_id</th>\n",
       "      <th>month</th>\n",
       "      <th></th>\n",
       "      <th></th>\n",
       "      <th></th>\n",
       "      <th></th>\n",
       "      <th></th>\n",
       "      <th></th>\n",
       "      <th></th>\n",
       "      <th></th>\n",
       "    </tr>\n",
       "  </thead>\n",
       "  <tbody>\n",
       "    <tr>\n",
       "      <th rowspan=\"5\" valign=\"top\">1000</th>\n",
       "      <th>5</th>\n",
       "      <td>17.0</td>\n",
       "      <td>159.0</td>\n",
       "      <td>4.0</td>\n",
       "      <td>2.200674</td>\n",
       "      <td>22.0</td>\n",
       "      <td>ultra</td>\n",
       "      <td>1950.000000</td>\n",
       "      <td>Краснодар</td>\n",
       "    </tr>\n",
       "    <tr>\n",
       "      <th>6</th>\n",
       "      <td>28.0</td>\n",
       "      <td>172.0</td>\n",
       "      <td>44.0</td>\n",
       "      <td>22.689229</td>\n",
       "      <td>60.0</td>\n",
       "      <td>ultra</td>\n",
       "      <td>1950.000000</td>\n",
       "      <td>Краснодар</td>\n",
       "    </tr>\n",
       "    <tr>\n",
       "      <th>7</th>\n",
       "      <td>41.0</td>\n",
       "      <td>340.0</td>\n",
       "      <td>28.0</td>\n",
       "      <td>13.675430</td>\n",
       "      <td>75.0</td>\n",
       "      <td>ultra</td>\n",
       "      <td>1950.000000</td>\n",
       "      <td>Краснодар</td>\n",
       "    </tr>\n",
       "    <tr>\n",
       "      <th>8</th>\n",
       "      <td>42.0</td>\n",
       "      <td>408.0</td>\n",
       "      <td>27.0</td>\n",
       "      <td>13.726494</td>\n",
       "      <td>81.0</td>\n",
       "      <td>ultra</td>\n",
       "      <td>1950.000000</td>\n",
       "      <td>Краснодар</td>\n",
       "    </tr>\n",
       "    <tr>\n",
       "      <th>9</th>\n",
       "      <td>46.0</td>\n",
       "      <td>466.0</td>\n",
       "      <td>25.0</td>\n",
       "      <td>14.227451</td>\n",
       "      <td>57.0</td>\n",
       "      <td>ultra</td>\n",
       "      <td>1950.000000</td>\n",
       "      <td>Краснодар</td>\n",
       "    </tr>\n",
       "    <tr>\n",
       "      <th>...</th>\n",
       "      <th>...</th>\n",
       "      <td>...</td>\n",
       "      <td>...</td>\n",
       "      <td>...</td>\n",
       "      <td>...</td>\n",
       "      <td>...</td>\n",
       "      <td>...</td>\n",
       "      <td>...</td>\n",
       "      <td>...</td>\n",
       "    </tr>\n",
       "    <tr>\n",
       "      <th>1498</th>\n",
       "      <th>10</th>\n",
       "      <td>30.0</td>\n",
       "      <td>247.0</td>\n",
       "      <td>49.0</td>\n",
       "      <td>20.097031</td>\n",
       "      <td>42.0</td>\n",
       "      <td>smart</td>\n",
       "      <td>1569.406250</td>\n",
       "      <td>Владикавказ</td>\n",
       "    </tr>\n",
       "    <tr>\n",
       "      <th rowspan=\"4\" valign=\"top\">1499</th>\n",
       "      <th>9</th>\n",
       "      <td>8.0</td>\n",
       "      <td>70.0</td>\n",
       "      <td>4.0</td>\n",
       "      <td>1.802490</td>\n",
       "      <td>11.0</td>\n",
       "      <td>smart</td>\n",
       "      <td>550.000000</td>\n",
       "      <td>Пермь</td>\n",
       "    </tr>\n",
       "    <tr>\n",
       "      <th>10</th>\n",
       "      <td>44.0</td>\n",
       "      <td>449.0</td>\n",
       "      <td>43.0</td>\n",
       "      <td>17.371592</td>\n",
       "      <td>48.0</td>\n",
       "      <td>smart</td>\n",
       "      <td>1024.318359</td>\n",
       "      <td>Пермь</td>\n",
       "    </tr>\n",
       "    <tr>\n",
       "      <th>11</th>\n",
       "      <td>62.0</td>\n",
       "      <td>612.0</td>\n",
       "      <td>39.0</td>\n",
       "      <td>17.542295</td>\n",
       "      <td>59.0</td>\n",
       "      <td>smart</td>\n",
       "      <td>1421.458984</td>\n",
       "      <td>Пермь</td>\n",
       "    </tr>\n",
       "    <tr>\n",
       "      <th>12</th>\n",
       "      <td>56.0</td>\n",
       "      <td>492.0</td>\n",
       "      <td>40.0</td>\n",
       "      <td>12.749590</td>\n",
       "      <td>66.0</td>\n",
       "      <td>smart</td>\n",
       "      <td>598.000000</td>\n",
       "      <td>Пермь</td>\n",
       "    </tr>\n",
       "  </tbody>\n",
       "</table>\n",
       "<p>3214 rows × 8 columns</p>\n",
       "</div>"
      ],
      "text/plain": [
       "               calls_count  minutes_used  sessions_count    gb_used  \\\n",
       "user_id month                                                         \n",
       "1000    5             17.0         159.0             4.0   2.200674   \n",
       "        6             28.0         172.0            44.0  22.689229   \n",
       "        7             41.0         340.0            28.0  13.675430   \n",
       "        8             42.0         408.0            27.0  13.726494   \n",
       "        9             46.0         466.0            25.0  14.227451   \n",
       "...                    ...           ...             ...        ...   \n",
       "1498    10            30.0         247.0            49.0  20.097031   \n",
       "1499    9              8.0          70.0             4.0   1.802490   \n",
       "        10            44.0         449.0            43.0  17.371592   \n",
       "        11            62.0         612.0            39.0  17.542295   \n",
       "        12            56.0         492.0            40.0  12.749590   \n",
       "\n",
       "               messages_count tariff       profit         city  \n",
       "user_id month                                                   \n",
       "1000    5                22.0  ultra  1950.000000    Краснодар  \n",
       "        6                60.0  ultra  1950.000000    Краснодар  \n",
       "        7                75.0  ultra  1950.000000    Краснодар  \n",
       "        8                81.0  ultra  1950.000000    Краснодар  \n",
       "        9                57.0  ultra  1950.000000    Краснодар  \n",
       "...                       ...    ...          ...          ...  \n",
       "1498    10               42.0  smart  1569.406250  Владикавказ  \n",
       "1499    9                11.0  smart   550.000000        Пермь  \n",
       "        10               48.0  smart  1024.318359        Пермь  \n",
       "        11               59.0  smart  1421.458984        Пермь  \n",
       "        12               66.0  smart   598.000000        Пермь  \n",
       "\n",
       "[3214 rows x 8 columns]"
      ]
     },
     "execution_count": 57,
     "metadata": {},
     "output_type": "execute_result"
    }
   ],
   "source": [
    "city_pivot = users.set_index('user_id')['city']\n",
    "df_users = df_users.merge(city_pivot, how='outer', left_index = True, right_index = True)\n",
    "df_users"
   ]
  },
  {
   "cell_type": "markdown",
   "id": "d0bce1b2",
   "metadata": {},
   "source": [
    "Красота!) Теперь зададим нулевую гипотизу, что `средняя выручка генеральной совокупности пользователей Москвы, равна средняя выручки генеральной совокупности пользователей других городов`  \n",
    "А альтернативной будет, что `средняя выручка генеральной совокупности пользователей Москвы, не равна средней выручки генеральной совокупности пользователей других городов`"
   ]
  },
  {
   "cell_type": "code",
   "execution_count": 58,
   "id": "1dd22647",
   "metadata": {},
   "outputs": [
    {
     "name": "stdout",
     "output_type": "stream",
     "text": [
      "p-значение: 0.4503618930\n",
      "Не получилось отвергнуть нулевую гипотезу\n"
     ]
    }
   ],
   "source": [
    "moscow = df_users[df_users['city'] == 'Москва']['profit']\n",
    "no_moscow = df_users[df_users['city'] != 'Москва']['profit']\n",
    "results = st.ttest_ind(\n",
    "    moscow,\n",
    "    no_moscow,\n",
    "    equal_var = False)\n",
    "print(f'p-значение: {results.pvalue:.10f}')\n",
    "alpha = 0.05\n",
    "if (results.pvalue < alpha):\n",
    "    print(\"Отвергаем нулевую гипотезу\")\n",
    "else:\n",
    "    print(\"Не получилось отвергнуть нулевую гипотезу\") "
   ]
  },
  {
   "cell_type": "markdown",
   "id": "72836d00",
   "metadata": {},
   "source": [
    "- С высокой долью вероятности пользователи расходуют на сотовую связь в Москве примерно столько же средств сколько и в регионах"
   ]
  },
  {
   "cell_type": "markdown",
   "id": "b7fbfdce",
   "metadata": {},
   "source": [
    "## Общий вывод:"
   ]
  },
  {
   "cell_type": "markdown",
   "id": "4313be20",
   "metadata": {},
   "source": [
    "- Средняя выручка генеральной совокупности тарифа `ultra` очень наверняка значительно больше средней выручки генеральной совокупности тарифа `smart`. Следовательно, тариф `ultra` более выгоден оператору.\n",
    "- С высокой долью вероятности пользователи расходуют на сотовую связь в Москве примерно столько же средств сколько и в регионах.\n",
    "- Пользователи тарифа `ultra` в среднем используют больше трафика интернета, минут и смс чем пользователи тарифа `smart`\n",
    "- Большинству пользователей тарифа не хватает лимита интернета в 15 гб, но при этом лимита в 30 гб хватает абсолютному большинству пользователей\n",
    "- Смс уходят в прошлое, однако значительное количество пользователей в среднем используют по 30-50 смс в месяц"
   ]
  }
 ],
 "metadata": {
  "ExecuteTimeLog": [
   {
    "duration": 5996,
    "start_time": "2021-09-10T14:53:13.849Z"
   },
   {
    "duration": 224164,
    "start_time": "2021-09-10T14:53:19.849Z"
   },
   {
    "duration": 76,
    "start_time": "2021-09-10T14:57:04.016Z"
   },
   {
    "duration": 95,
    "start_time": "2021-09-10T14:57:04.095Z"
   },
   {
    "duration": 408,
    "start_time": "2021-09-10T14:57:04.192Z"
   },
   {
    "duration": 16,
    "start_time": "2021-09-10T14:57:04.603Z"
   },
   {
    "duration": 28,
    "start_time": "2021-09-10T14:57:04.622Z"
   },
   {
    "duration": 65,
    "start_time": "2021-09-10T14:57:04.654Z"
   },
   {
    "duration": 7,
    "start_time": "2021-09-10T14:57:04.722Z"
   },
   {
    "duration": 47,
    "start_time": "2021-09-10T14:57:04.733Z"
   },
   {
    "duration": 93,
    "start_time": "2021-09-10T14:57:04.782Z"
   },
   {
    "duration": 7,
    "start_time": "2021-09-10T14:57:04.878Z"
   },
   {
    "duration": 21,
    "start_time": "2021-09-10T14:57:04.888Z"
   },
   {
    "duration": 88,
    "start_time": "2021-09-10T14:57:04.912Z"
   },
   {
    "duration": 12,
    "start_time": "2021-09-10T14:57:05.002Z"
   },
   {
    "duration": 9,
    "start_time": "2021-09-10T14:57:05.068Z"
   },
   {
    "duration": 35,
    "start_time": "2021-09-10T14:57:05.080Z"
   },
   {
    "duration": 40,
    "start_time": "2021-09-10T14:57:05.119Z"
   },
   {
    "duration": 14,
    "start_time": "2021-09-10T14:57:05.169Z"
   },
   {
    "duration": 21,
    "start_time": "2021-09-10T14:57:05.187Z"
   },
   {
    "duration": 15,
    "start_time": "2021-09-10T14:57:05.211Z"
   },
   {
    "duration": 23,
    "start_time": "2021-09-10T14:57:05.266Z"
   },
   {
    "duration": 22,
    "start_time": "2021-09-10T14:57:05.294Z"
   },
   {
    "duration": 449,
    "start_time": "2021-09-10T14:57:05.320Z"
   },
   {
    "duration": 15,
    "start_time": "2021-09-10T14:57:05.772Z"
   },
   {
    "duration": 420,
    "start_time": "2021-09-10T14:57:05.790Z"
   },
   {
    "duration": 436,
    "start_time": "2021-09-10T14:57:06.213Z"
   },
   {
    "duration": 25,
    "start_time": "2021-09-10T14:57:06.651Z"
   },
   {
    "duration": 445,
    "start_time": "2021-09-10T14:57:06.678Z"
   },
   {
    "duration": 82,
    "start_time": "2021-09-10T14:57:07.126Z"
   },
   {
    "duration": 9,
    "start_time": "2021-09-10T14:57:07.211Z"
   },
   {
    "duration": 11,
    "start_time": "2021-09-10T14:57:07.223Z"
   },
   {
    "duration": 73,
    "start_time": "2021-09-10T14:57:07.268Z"
   },
   {
    "duration": 268,
    "start_time": "2021-09-10T14:57:07.344Z"
   },
   {
    "duration": 12,
    "start_time": "2021-09-10T14:57:07.616Z"
   },
   {
    "duration": 118,
    "start_time": "2021-09-10T14:57:07.632Z"
   },
   {
    "duration": 19,
    "start_time": "2021-09-10T14:57:07.754Z"
   },
   {
    "duration": 48,
    "start_time": "2021-09-10T14:57:07.777Z"
   },
   {
    "duration": 2594,
    "start_time": "2021-09-10T14:57:07.828Z"
   },
   {
    "duration": 8,
    "start_time": "2021-09-10T14:57:10.424Z"
   },
   {
    "duration": 122,
    "start_time": "2021-09-10T14:57:10.434Z"
   },
   {
    "duration": 9,
    "start_time": "2021-09-10T14:57:10.549Z"
   },
   {
    "duration": 9,
    "start_time": "2021-09-10T14:57:10.551Z"
   },
   {
    "duration": 7,
    "start_time": "2021-09-10T14:57:10.554Z"
   },
   {
    "duration": 4,
    "start_time": "2021-09-10T14:57:10.559Z"
   },
   {
    "duration": 2,
    "start_time": "2021-09-10T14:57:10.562Z"
   },
   {
    "duration": -2,
    "start_time": "2021-09-10T14:57:10.567Z"
   },
   {
    "duration": -3,
    "start_time": "2021-09-10T14:57:10.570Z"
   },
   {
    "duration": -5,
    "start_time": "2021-09-10T14:57:10.573Z"
   },
   {
    "duration": -4,
    "start_time": "2021-09-10T14:57:10.575Z"
   },
   {
    "duration": -5,
    "start_time": "2021-09-10T14:57:10.578Z"
   },
   {
    "duration": -5,
    "start_time": "2021-09-10T14:57:10.581Z"
   },
   {
    "duration": 83,
    "start_time": "2021-09-10T15:00:43.938Z"
   },
   {
    "duration": 6,
    "start_time": "2021-09-10T15:00:44.639Z"
   },
   {
    "duration": 715,
    "start_time": "2021-09-10T15:00:45.343Z"
   },
   {
    "duration": 16,
    "start_time": "2021-09-10T15:00:46.067Z"
   },
   {
    "duration": 577,
    "start_time": "2021-09-10T15:00:46.731Z"
   },
   {
    "duration": 18,
    "start_time": "2021-09-10T15:00:47.310Z"
   },
   {
    "duration": 581,
    "start_time": "2021-09-10T15:00:47.543Z"
   },
   {
    "duration": 17,
    "start_time": "2021-09-10T15:00:48.127Z"
   },
   {
    "duration": 954,
    "start_time": "2021-09-10T15:00:48.455Z"
   },
   {
    "duration": 27,
    "start_time": "2021-09-10T15:00:49.414Z"
   },
   {
    "duration": 20,
    "start_time": "2021-09-10T15:00:49.620Z"
   },
   {
    "duration": 57,
    "start_time": "2021-09-10T15:11:37.962Z"
   },
   {
    "duration": 30,
    "start_time": "2021-09-10T15:13:41.054Z"
   },
   {
    "duration": 1487,
    "start_time": "2021-09-11T10:13:57.098Z"
   },
   {
    "duration": 1084,
    "start_time": "2021-09-11T10:13:58.587Z"
   },
   {
    "duration": 125,
    "start_time": "2021-09-11T10:14:17.051Z"
   },
   {
    "duration": 2069,
    "start_time": "2021-09-11T10:16:33.157Z"
   },
   {
    "duration": 65,
    "start_time": "2021-09-11T10:16:42.470Z"
   },
   {
    "duration": 18,
    "start_time": "2021-09-11T12:48:30.934Z"
   },
   {
    "duration": 141,
    "start_time": "2021-09-11T12:52:24.065Z"
   },
   {
    "duration": 498,
    "start_time": "2021-09-11T12:53:33.235Z"
   },
   {
    "duration": 1696,
    "start_time": "2021-09-11T12:54:02.186Z"
   },
   {
    "duration": 1341,
    "start_time": "2021-09-11T12:54:03.885Z"
   },
   {
    "duration": 10382,
    "start_time": "2021-09-11T12:54:05.229Z"
   },
   {
    "duration": 74,
    "start_time": "2021-09-11T12:54:15.615Z"
   },
   {
    "duration": 96,
    "start_time": "2021-09-11T12:54:15.692Z"
   },
   {
    "duration": 273,
    "start_time": "2021-09-11T12:54:15.792Z"
   },
   {
    "duration": 17,
    "start_time": "2021-09-11T12:54:16.068Z"
   },
   {
    "duration": 52,
    "start_time": "2021-09-11T12:54:16.090Z"
   },
   {
    "duration": 76,
    "start_time": "2021-09-11T12:54:16.145Z"
   },
   {
    "duration": 7,
    "start_time": "2021-09-11T12:54:16.223Z"
   },
   {
    "duration": 25,
    "start_time": "2021-09-11T12:54:16.232Z"
   },
   {
    "duration": 19,
    "start_time": "2021-09-11T12:54:16.260Z"
   },
   {
    "duration": 80,
    "start_time": "2021-09-11T12:54:16.281Z"
   },
   {
    "duration": 7,
    "start_time": "2021-09-11T12:54:16.364Z"
   },
   {
    "duration": 49,
    "start_time": "2021-09-11T12:54:16.373Z"
   },
   {
    "duration": 36,
    "start_time": "2021-09-11T12:54:16.425Z"
   },
   {
    "duration": 12,
    "start_time": "2021-09-11T12:54:16.464Z"
   },
   {
    "duration": 40,
    "start_time": "2021-09-11T12:54:16.478Z"
   },
   {
    "duration": 15,
    "start_time": "2021-09-11T12:54:16.521Z"
   },
   {
    "duration": 21,
    "start_time": "2021-09-11T12:54:16.538Z"
   },
   {
    "duration": 13,
    "start_time": "2021-09-11T12:54:16.561Z"
   },
   {
    "duration": 45,
    "start_time": "2021-09-11T12:54:16.576Z"
   },
   {
    "duration": 11,
    "start_time": "2021-09-11T12:54:16.627Z"
   },
   {
    "duration": 26,
    "start_time": "2021-09-11T12:54:16.641Z"
   },
   {
    "duration": 19,
    "start_time": "2021-09-11T12:54:16.669Z"
   },
   {
    "duration": 443,
    "start_time": "2021-09-11T12:54:16.691Z"
   },
   {
    "duration": 14,
    "start_time": "2021-09-11T12:54:17.136Z"
   },
   {
    "duration": 396,
    "start_time": "2021-09-11T12:54:17.152Z"
   },
   {
    "duration": 420,
    "start_time": "2021-09-11T12:54:17.550Z"
   },
   {
    "duration": 16,
    "start_time": "2021-09-11T12:54:17.973Z"
   },
   {
    "duration": 429,
    "start_time": "2021-09-11T12:54:17.991Z"
   },
   {
    "duration": 67,
    "start_time": "2021-09-11T12:54:18.422Z"
   },
   {
    "duration": 31,
    "start_time": "2021-09-11T12:54:18.492Z"
   },
   {
    "duration": 11,
    "start_time": "2021-09-11T12:54:18.525Z"
   },
   {
    "duration": 101,
    "start_time": "2021-09-11T12:54:18.538Z"
   },
   {
    "duration": 132,
    "start_time": "2021-09-11T12:54:18.641Z"
   },
   {
    "duration": 8,
    "start_time": "2021-09-11T12:54:18.775Z"
   },
   {
    "duration": 65,
    "start_time": "2021-09-11T12:54:18.785Z"
   },
   {
    "duration": 6,
    "start_time": "2021-09-11T12:54:18.853Z"
   },
   {
    "duration": 30,
    "start_time": "2021-09-11T12:54:18.862Z"
   },
   {
    "duration": 2451,
    "start_time": "2021-09-11T12:54:18.894Z"
   },
   {
    "duration": 8,
    "start_time": "2021-09-11T12:54:21.347Z"
   },
   {
    "duration": 31,
    "start_time": "2021-09-11T12:54:21.357Z"
   },
   {
    "duration": 96,
    "start_time": "2021-09-11T12:54:21.390Z"
   },
   {
    "duration": 6,
    "start_time": "2021-09-11T12:54:21.489Z"
   },
   {
    "duration": 683,
    "start_time": "2021-09-11T12:54:21.497Z"
   },
   {
    "duration": 16,
    "start_time": "2021-09-11T12:54:22.182Z"
   },
   {
    "duration": 564,
    "start_time": "2021-09-11T12:54:22.200Z"
   },
   {
    "duration": 17,
    "start_time": "2021-09-11T12:54:22.767Z"
   },
   {
    "duration": 569,
    "start_time": "2021-09-11T12:54:22.787Z"
   },
   {
    "duration": 18,
    "start_time": "2021-09-11T12:54:23.360Z"
   },
   {
    "duration": 585,
    "start_time": "2021-09-11T12:54:23.380Z"
   },
   {
    "duration": 18,
    "start_time": "2021-09-11T12:54:23.969Z"
   },
   {
    "duration": 28,
    "start_time": "2021-09-11T12:54:23.990Z"
   },
   {
    "duration": 5,
    "start_time": "2021-09-11T13:23:48.354Z"
   },
   {
    "duration": 2175,
    "start_time": "2021-09-11T13:23:48.362Z"
   },
   {
    "duration": 5319,
    "start_time": "2021-09-11T13:23:50.540Z"
   },
   {
    "duration": 71,
    "start_time": "2021-09-11T13:23:55.862Z"
   },
   {
    "duration": 97,
    "start_time": "2021-09-11T13:23:55.935Z"
   },
   {
    "duration": 304,
    "start_time": "2021-09-11T13:23:56.035Z"
   },
   {
    "duration": 15,
    "start_time": "2021-09-11T13:23:56.341Z"
   },
   {
    "duration": 27,
    "start_time": "2021-09-11T13:23:56.360Z"
   },
   {
    "duration": 64,
    "start_time": "2021-09-11T13:23:56.390Z"
   },
   {
    "duration": 6,
    "start_time": "2021-09-11T13:23:56.457Z"
   },
   {
    "duration": 23,
    "start_time": "2021-09-11T13:23:56.466Z"
   },
   {
    "duration": 26,
    "start_time": "2021-09-11T13:23:56.492Z"
   },
   {
    "duration": 46,
    "start_time": "2021-09-11T13:23:56.520Z"
   },
   {
    "duration": 6,
    "start_time": "2021-09-11T13:23:56.569Z"
   },
   {
    "duration": 30,
    "start_time": "2021-09-11T13:23:56.578Z"
   },
   {
    "duration": 51,
    "start_time": "2021-09-11T13:23:56.611Z"
   },
   {
    "duration": 13,
    "start_time": "2021-09-11T13:23:56.665Z"
   },
   {
    "duration": 10,
    "start_time": "2021-09-11T13:23:56.681Z"
   },
   {
    "duration": 11,
    "start_time": "2021-09-11T13:23:56.694Z"
   },
   {
    "duration": 27,
    "start_time": "2021-09-11T13:23:56.708Z"
   },
   {
    "duration": 12,
    "start_time": "2021-09-11T13:23:56.738Z"
   },
   {
    "duration": 30,
    "start_time": "2021-09-11T13:23:56.753Z"
   },
   {
    "duration": 13,
    "start_time": "2021-09-11T13:23:56.789Z"
   },
   {
    "duration": 35,
    "start_time": "2021-09-11T13:23:56.805Z"
   },
   {
    "duration": 19,
    "start_time": "2021-09-11T13:23:56.842Z"
   },
   {
    "duration": 445,
    "start_time": "2021-09-11T13:23:56.864Z"
   },
   {
    "duration": 15,
    "start_time": "2021-09-11T13:23:57.311Z"
   },
   {
    "duration": 445,
    "start_time": "2021-09-11T13:23:57.328Z"
   },
   {
    "duration": 490,
    "start_time": "2021-09-11T13:23:57.776Z"
   },
   {
    "duration": 17,
    "start_time": "2021-09-11T13:23:58.268Z"
   },
   {
    "duration": 429,
    "start_time": "2021-09-11T13:23:58.287Z"
   },
   {
    "duration": 68,
    "start_time": "2021-09-11T13:23:58.718Z"
   },
   {
    "duration": 8,
    "start_time": "2021-09-11T13:23:58.789Z"
   },
   {
    "duration": 11,
    "start_time": "2021-09-11T13:24:20.678Z"
   },
   {
    "duration": 12,
    "start_time": "2021-09-11T13:26:26.625Z"
   },
   {
    "duration": 300,
    "start_time": "2021-09-11T13:28:18.119Z"
   },
   {
    "duration": 79,
    "start_time": "2021-09-11T13:28:50.716Z"
   },
   {
    "duration": 129,
    "start_time": "2021-09-11T13:29:09.964Z"
   },
   {
    "duration": 9,
    "start_time": "2021-09-11T13:30:16.530Z"
   },
   {
    "duration": 52,
    "start_time": "2021-09-11T13:30:17.469Z"
   },
   {
    "duration": 9,
    "start_time": "2021-09-11T13:30:19.320Z"
   },
   {
    "duration": 26,
    "start_time": "2021-09-11T13:30:21.548Z"
   },
   {
    "duration": 2264,
    "start_time": "2021-09-11T13:30:22.941Z"
   },
   {
    "duration": 14,
    "start_time": "2021-09-11T13:30:25.207Z"
   },
   {
    "duration": 163,
    "start_time": "2021-09-11T13:30:25.227Z"
   },
   {
    "duration": 2307,
    "start_time": "2021-09-11T13:38:07.091Z"
   },
   {
    "duration": 8,
    "start_time": "2021-09-11T13:38:19.243Z"
   },
   {
    "duration": 30,
    "start_time": "2021-09-11T13:38:21.192Z"
   },
   {
    "duration": 9,
    "start_time": "2021-09-11T13:40:22.334Z"
   },
   {
    "duration": 23,
    "start_time": "2021-09-11T13:47:46.050Z"
   },
   {
    "duration": 7,
    "start_time": "2021-09-11T13:47:53.797Z"
   },
   {
    "duration": 15,
    "start_time": "2021-09-11T13:47:54.008Z"
   },
   {
    "duration": 19,
    "start_time": "2021-09-11T13:47:54.199Z"
   },
   {
    "duration": 13,
    "start_time": "2021-09-11T13:47:54.362Z"
   },
   {
    "duration": 11,
    "start_time": "2021-09-11T13:47:54.537Z"
   },
   {
    "duration": 9,
    "start_time": "2021-09-11T13:47:54.892Z"
   },
   {
    "duration": 16,
    "start_time": "2021-09-11T13:47:55.354Z"
   },
   {
    "duration": 9,
    "start_time": "2021-09-11T13:47:55.612Z"
   },
   {
    "duration": 18,
    "start_time": "2021-09-11T13:47:57.485Z"
   },
   {
    "duration": 11,
    "start_time": "2021-09-11T13:47:58.121Z"
   },
   {
    "duration": 23,
    "start_time": "2021-09-11T13:47:59.009Z"
   },
   {
    "duration": 14,
    "start_time": "2021-09-11T13:47:59.428Z"
   },
   {
    "duration": 385,
    "start_time": "2021-09-11T13:47:59.639Z"
   },
   {
    "duration": 16,
    "start_time": "2021-09-11T13:48:00.114Z"
   },
   {
    "duration": 387,
    "start_time": "2021-09-11T13:48:00.384Z"
   },
   {
    "duration": 453,
    "start_time": "2021-09-11T13:48:00.865Z"
   },
   {
    "duration": 19,
    "start_time": "2021-09-11T13:48:01.347Z"
   },
   {
    "duration": 358,
    "start_time": "2021-09-11T13:48:01.728Z"
   },
   {
    "duration": 67,
    "start_time": "2021-09-11T13:48:04.512Z"
   },
   {
    "duration": 9,
    "start_time": "2021-09-11T13:48:05.632Z"
   },
   {
    "duration": 16,
    "start_time": "2021-09-11T13:48:18.523Z"
   },
   {
    "duration": 60,
    "start_time": "2021-09-11T13:49:15.312Z"
   },
   {
    "duration": 121,
    "start_time": "2021-09-11T13:49:17.728Z"
   },
   {
    "duration": 10,
    "start_time": "2021-09-11T13:49:32.380Z"
   },
   {
    "duration": 50,
    "start_time": "2021-09-11T13:49:37.707Z"
   },
   {
    "duration": 7,
    "start_time": "2021-09-11T13:49:39.065Z"
   },
   {
    "duration": 26,
    "start_time": "2021-09-11T13:49:41.675Z"
   },
   {
    "duration": 2379,
    "start_time": "2021-09-11T13:49:42.267Z"
   },
   {
    "duration": 7,
    "start_time": "2021-09-11T13:49:44.649Z"
   },
   {
    "duration": 32,
    "start_time": "2021-09-11T13:49:45.487Z"
   },
   {
    "duration": 9,
    "start_time": "2021-09-11T13:50:45.789Z"
   },
   {
    "duration": 8,
    "start_time": "2021-09-11T13:51:36.542Z"
   },
   {
    "duration": 124,
    "start_time": "2021-09-11T13:52:18.845Z"
   },
   {
    "duration": 77,
    "start_time": "2021-09-11T13:52:33.434Z"
   },
   {
    "duration": 6,
    "start_time": "2021-09-11T13:52:34.224Z"
   },
   {
    "duration": 737,
    "start_time": "2021-09-11T13:52:34.664Z"
   },
   {
    "duration": 16,
    "start_time": "2021-09-11T13:52:35.510Z"
   },
   {
    "duration": 630,
    "start_time": "2021-09-11T13:52:38.232Z"
   },
   {
    "duration": 17,
    "start_time": "2021-09-11T13:52:42.717Z"
   },
   {
    "duration": 635,
    "start_time": "2021-09-11T13:53:57.721Z"
   },
   {
    "duration": 17,
    "start_time": "2021-09-11T13:53:58.608Z"
   },
   {
    "duration": 586,
    "start_time": "2021-09-11T13:54:13.088Z"
   },
   {
    "duration": 15,
    "start_time": "2021-09-11T13:54:27.466Z"
   },
   {
    "duration": 964,
    "start_time": "2021-09-11T14:11:41.034Z"
   },
   {
    "duration": 13,
    "start_time": "2021-09-11T14:11:49.301Z"
   },
   {
    "duration": 1094,
    "start_time": "2021-09-13T08:28:18.765Z"
   },
   {
    "duration": 1017,
    "start_time": "2021-09-13T08:28:19.861Z"
   },
   {
    "duration": 7567,
    "start_time": "2021-09-13T08:28:20.880Z"
   },
   {
    "duration": 47,
    "start_time": "2021-09-13T08:28:28.450Z"
   },
   {
    "duration": 55,
    "start_time": "2021-09-13T08:28:28.500Z"
   },
   {
    "duration": 207,
    "start_time": "2021-09-13T08:28:28.556Z"
   },
   {
    "duration": 28,
    "start_time": "2021-09-13T08:28:28.765Z"
   },
   {
    "duration": 24,
    "start_time": "2021-09-13T08:28:28.797Z"
   },
   {
    "duration": 63,
    "start_time": "2021-09-13T08:28:28.823Z"
   },
   {
    "duration": 6,
    "start_time": "2021-09-13T08:28:28.889Z"
   },
   {
    "duration": 20,
    "start_time": "2021-09-13T08:28:28.898Z"
   },
   {
    "duration": 11,
    "start_time": "2021-09-13T08:28:28.920Z"
   },
   {
    "duration": 53,
    "start_time": "2021-09-13T08:28:28.932Z"
   },
   {
    "duration": 7,
    "start_time": "2021-09-13T08:28:28.987Z"
   },
   {
    "duration": 17,
    "start_time": "2021-09-13T08:28:28.997Z"
   },
   {
    "duration": 25,
    "start_time": "2021-09-13T08:28:29.016Z"
   },
   {
    "duration": 7,
    "start_time": "2021-09-13T08:28:29.043Z"
   },
   {
    "duration": 38,
    "start_time": "2021-09-13T08:28:29.052Z"
   },
   {
    "duration": 7,
    "start_time": "2021-09-13T08:28:29.095Z"
   },
   {
    "duration": 14,
    "start_time": "2021-09-13T08:28:29.105Z"
   },
   {
    "duration": 9,
    "start_time": "2021-09-13T08:28:29.121Z"
   },
   {
    "duration": 15,
    "start_time": "2021-09-13T08:28:29.131Z"
   },
   {
    "duration": 7,
    "start_time": "2021-09-13T08:28:29.149Z"
   },
   {
    "duration": 43,
    "start_time": "2021-09-13T08:28:29.159Z"
   },
   {
    "duration": 13,
    "start_time": "2021-09-13T08:28:29.204Z"
   },
   {
    "duration": 520,
    "start_time": "2021-09-13T08:28:29.219Z"
   },
   {
    "duration": 11,
    "start_time": "2021-09-13T08:28:29.741Z"
   },
   {
    "duration": 778,
    "start_time": "2021-09-13T08:28:29.753Z"
   },
   {
    "duration": 292,
    "start_time": "2021-09-13T08:28:30.533Z"
   },
   {
    "duration": 13,
    "start_time": "2021-09-13T08:28:30.827Z"
   },
   {
    "duration": 276,
    "start_time": "2021-09-13T08:28:30.842Z"
   },
   {
    "duration": 43,
    "start_time": "2021-09-13T08:28:31.120Z"
   },
   {
    "duration": 26,
    "start_time": "2021-09-13T08:28:31.165Z"
   },
   {
    "duration": 8,
    "start_time": "2021-09-13T08:28:31.197Z"
   },
   {
    "duration": 59,
    "start_time": "2021-09-13T08:28:31.206Z"
   },
   {
    "duration": 89,
    "start_time": "2021-09-13T08:28:31.266Z"
   },
   {
    "duration": 5,
    "start_time": "2021-09-13T08:28:31.357Z"
   },
   {
    "duration": 54,
    "start_time": "2021-09-13T08:28:31.363Z"
   },
   {
    "duration": 6,
    "start_time": "2021-09-13T08:28:31.418Z"
   },
   {
    "duration": 20,
    "start_time": "2021-09-13T08:28:31.426Z"
   },
   {
    "duration": 1286,
    "start_time": "2021-09-13T08:28:31.448Z"
   },
   {
    "duration": 5,
    "start_time": "2021-09-13T08:28:32.736Z"
   },
   {
    "duration": 19,
    "start_time": "2021-09-13T08:28:32.743Z"
   },
   {
    "duration": 72,
    "start_time": "2021-09-13T08:28:32.764Z"
   },
   {
    "duration": 4,
    "start_time": "2021-09-13T08:28:32.838Z"
   },
   {
    "duration": 515,
    "start_time": "2021-09-13T08:28:32.844Z"
   },
   {
    "duration": 12,
    "start_time": "2021-09-13T08:28:33.361Z"
   },
   {
    "duration": 422,
    "start_time": "2021-09-13T08:28:33.374Z"
   },
   {
    "duration": 12,
    "start_time": "2021-09-13T08:28:33.798Z"
   },
   {
    "duration": 399,
    "start_time": "2021-09-13T08:28:33.812Z"
   },
   {
    "duration": 12,
    "start_time": "2021-09-13T08:28:34.212Z"
   },
   {
    "duration": 7,
    "start_time": "2021-09-13T08:28:34.226Z"
   },
   {
    "duration": 480,
    "start_time": "2021-09-13T08:28:34.235Z"
   },
   {
    "duration": 11,
    "start_time": "2021-09-13T08:28:34.716Z"
   },
   {
    "duration": 7,
    "start_time": "2021-09-13T08:28:34.729Z"
   },
   {
    "duration": 62,
    "start_time": "2021-09-13T10:20:18.816Z"
   },
   {
    "duration": 68,
    "start_time": "2021-09-13T10:20:24.197Z"
   },
   {
    "duration": 58,
    "start_time": "2021-09-13T10:20:46.934Z"
   },
   {
    "duration": 422,
    "start_time": "2021-09-13T10:21:06.062Z"
   },
   {
    "duration": 184,
    "start_time": "2021-09-13T11:19:10.870Z"
   },
   {
    "duration": 186,
    "start_time": "2021-09-13T11:20:52.510Z"
   },
   {
    "duration": 8,
    "start_time": "2021-09-13T11:21:15.503Z"
   },
   {
    "duration": 60,
    "start_time": "2021-09-13T11:21:43.701Z"
   },
   {
    "duration": 9,
    "start_time": "2021-09-13T11:22:00.001Z"
   },
   {
    "duration": 20,
    "start_time": "2021-09-13T11:22:58.385Z"
   },
   {
    "duration": 15,
    "start_time": "2021-09-13T11:23:09.791Z"
   },
   {
    "duration": 195,
    "start_time": "2021-09-13T11:25:28.369Z"
   },
   {
    "duration": 16,
    "start_time": "2021-09-13T11:25:51.076Z"
   },
   {
    "duration": 4,
    "start_time": "2021-09-13T11:26:39.590Z"
   },
   {
    "duration": 16,
    "start_time": "2021-09-13T11:26:45.382Z"
   },
   {
    "duration": 6046,
    "start_time": "2021-09-13T11:32:58.995Z"
   },
   {
    "duration": 23,
    "start_time": "2021-09-13T11:37:06.012Z"
   },
   {
    "duration": 4741,
    "start_time": "2021-09-13T11:37:19.705Z"
   },
   {
    "duration": 10,
    "start_time": "2021-09-13T11:37:32.517Z"
   },
   {
    "duration": 1144,
    "start_time": "2021-09-13T12:07:01.942Z"
   },
   {
    "duration": 2573,
    "start_time": "2021-09-13T12:07:03.088Z"
   },
   {
    "duration": 2325,
    "start_time": "2021-09-13T12:07:05.663Z"
   },
   {
    "duration": 45,
    "start_time": "2021-09-13T12:07:07.991Z"
   },
   {
    "duration": 76,
    "start_time": "2021-09-13T12:07:08.037Z"
   },
   {
    "duration": 143,
    "start_time": "2021-09-13T12:07:08.115Z"
   },
   {
    "duration": 11,
    "start_time": "2021-09-13T12:07:08.260Z"
   },
   {
    "duration": 41,
    "start_time": "2021-09-13T12:07:08.284Z"
   },
   {
    "duration": 45,
    "start_time": "2021-09-13T12:07:08.327Z"
   },
   {
    "duration": 4,
    "start_time": "2021-09-13T12:07:08.374Z"
   },
   {
    "duration": 38,
    "start_time": "2021-09-13T12:07:08.379Z"
   },
   {
    "duration": 15,
    "start_time": "2021-09-13T12:07:08.419Z"
   },
   {
    "duration": 48,
    "start_time": "2021-09-13T12:07:08.436Z"
   },
   {
    "duration": 5,
    "start_time": "2021-09-13T12:07:08.485Z"
   },
   {
    "duration": 50,
    "start_time": "2021-09-13T12:07:08.492Z"
   },
   {
    "duration": 40,
    "start_time": "2021-09-13T12:07:08.544Z"
   },
   {
    "duration": 10,
    "start_time": "2021-09-13T12:07:08.586Z"
   },
   {
    "duration": 32,
    "start_time": "2021-09-13T12:07:08.598Z"
   },
   {
    "duration": 24,
    "start_time": "2021-09-13T12:07:08.632Z"
   },
   {
    "duration": 43,
    "start_time": "2021-09-13T12:07:08.658Z"
   },
   {
    "duration": 22,
    "start_time": "2021-09-13T12:07:08.702Z"
   },
   {
    "duration": 49,
    "start_time": "2021-09-13T12:07:08.725Z"
   },
   {
    "duration": 24,
    "start_time": "2021-09-13T12:07:08.776Z"
   },
   {
    "duration": 35,
    "start_time": "2021-09-13T12:07:08.802Z"
   },
   {
    "duration": 42,
    "start_time": "2021-09-13T12:07:08.840Z"
   },
   {
    "duration": 724,
    "start_time": "2021-09-13T12:07:08.884Z"
   },
   {
    "duration": 13,
    "start_time": "2021-09-13T12:07:09.613Z"
   },
   {
    "duration": 761,
    "start_time": "2021-09-13T12:07:09.628Z"
   },
   {
    "duration": 282,
    "start_time": "2021-09-13T12:07:10.391Z"
   },
   {
    "duration": 19,
    "start_time": "2021-09-13T12:07:10.675Z"
   },
   {
    "duration": 357,
    "start_time": "2021-09-13T12:07:10.696Z"
   },
   {
    "duration": 58,
    "start_time": "2021-09-13T12:07:11.055Z"
   },
   {
    "duration": 8,
    "start_time": "2021-09-13T12:07:11.115Z"
   },
   {
    "duration": 31,
    "start_time": "2021-09-13T12:07:11.125Z"
   },
   {
    "duration": 65,
    "start_time": "2021-09-13T12:07:11.158Z"
   },
   {
    "duration": 91,
    "start_time": "2021-09-13T12:07:11.225Z"
   },
   {
    "duration": 6,
    "start_time": "2021-09-13T12:07:11.318Z"
   },
   {
    "duration": 32,
    "start_time": "2021-09-13T12:07:11.326Z"
   },
   {
    "duration": 20,
    "start_time": "2021-09-13T12:07:11.359Z"
   },
   {
    "duration": 45,
    "start_time": "2021-09-13T12:07:11.381Z"
   },
   {
    "duration": 590,
    "start_time": "2021-09-13T12:07:11.428Z"
   },
   {
    "duration": 6,
    "start_time": "2021-09-13T12:07:12.020Z"
   },
   {
    "duration": 52,
    "start_time": "2021-09-13T12:07:12.028Z"
   },
   {
    "duration": 52,
    "start_time": "2021-09-13T12:07:12.081Z"
   },
   {
    "duration": 4,
    "start_time": "2021-09-13T12:07:12.135Z"
   },
   {
    "duration": 40,
    "start_time": "2021-09-13T12:07:12.141Z"
   },
   {
    "duration": 508,
    "start_time": "2021-09-13T12:07:12.183Z"
   },
   {
    "duration": 12,
    "start_time": "2021-09-13T12:07:12.693Z"
   },
   {
    "duration": 395,
    "start_time": "2021-09-13T12:07:12.707Z"
   },
   {
    "duration": 12,
    "start_time": "2021-09-13T12:07:13.104Z"
   },
   {
    "duration": 444,
    "start_time": "2021-09-13T12:07:13.118Z"
   },
   {
    "duration": 21,
    "start_time": "2021-09-13T12:07:13.564Z"
   },
   {
    "duration": 57,
    "start_time": "2021-09-13T12:07:13.587Z"
   },
   {
    "duration": 432,
    "start_time": "2021-09-13T12:07:13.646Z"
   },
   {
    "duration": 13,
    "start_time": "2021-09-13T12:07:14.080Z"
   },
   {
    "duration": 7,
    "start_time": "2021-09-13T12:07:14.094Z"
   },
   {
    "duration": 22,
    "start_time": "2021-09-13T12:07:14.103Z"
   },
   {
    "duration": 8,
    "start_time": "2021-09-13T12:07:14.126Z"
   }
  ],
  "kernelspec": {
   "display_name": "Python 3",
   "language": "python",
   "name": "python3"
  },
  "language_info": {
   "codemirror_mode": {
    "name": "ipython",
    "version": 3
   },
   "file_extension": ".py",
   "mimetype": "text/x-python",
   "name": "python",
   "nbconvert_exporter": "python",
   "pygments_lexer": "ipython3",
   "version": "3.7.11"
  },
  "toc": {
   "base_numbering": 1,
   "nav_menu": {},
   "number_sections": true,
   "sideBar": true,
   "skip_h1_title": true,
   "title_cell": "Table of Contents",
   "title_sidebar": "Contents",
   "toc_cell": false,
   "toc_position": {},
   "toc_section_display": true,
   "toc_window_display": false
  }
 },
 "nbformat": 4,
 "nbformat_minor": 5
}
